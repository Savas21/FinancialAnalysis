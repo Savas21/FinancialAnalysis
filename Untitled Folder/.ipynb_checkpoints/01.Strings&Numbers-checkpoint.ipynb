{
 "cells": [
  {
   "cell_type": "markdown",
   "metadata": {},
   "source": [
    "# Strings & Numbers"
   ]
  },
  {
   "cell_type": "markdown",
   "metadata": {},
   "source": [
    "### Presenting text(strings)"
   ]
  },
  {
   "cell_type": "code",
   "execution_count": 51,
   "metadata": {},
   "outputs": [
    {
     "data": {
      "text/plain": [
       "'something'"
      ]
     },
     "execution_count": 51,
     "metadata": {},
     "output_type": "execute_result"
    }
   ],
   "source": [
    "'something'"
   ]
  },
  {
   "cell_type": "code",
   "execution_count": 52,
   "metadata": {},
   "outputs": [
    {
     "data": {
      "text/plain": [
       "'something'"
      ]
     },
     "execution_count": 52,
     "metadata": {},
     "output_type": "execute_result"
    }
   ],
   "source": [
    "s='something'\n",
    "s"
   ]
  },
  {
   "cell_type": "code",
   "execution_count": 53,
   "metadata": {},
   "outputs": [
    {
     "name": "stdout",
     "output_type": "stream",
     "text": [
      "Change Return Volatility\n"
     ]
    }
   ],
   "source": [
    "print('Change', 'Return', 'Volatility')"
   ]
  },
  {
   "cell_type": "code",
   "execution_count": 54,
   "metadata": {},
   "outputs": [
    {
     "name": "stdout",
     "output_type": "stream",
     "text": [
      "Change Return Volatility\n"
     ]
    }
   ],
   "source": [
    "print(\"{} {} {}\".format('Change', 'Return', 'Volatility'))"
   ]
  },
  {
   "cell_type": "code",
   "execution_count": 55,
   "metadata": {},
   "outputs": [
    {
     "name": "stdout",
     "output_type": "stream",
     "text": [
      "    Change      Return               Volatility\n"
     ]
    }
   ],
   "source": [
    "# set a specific width and alignment \n",
    "print(\"{:^15} {:<15} {:>15}\".format(\"Change\", \"Return\", \"Volatility\"))"
   ]
  },
  {
   "cell_type": "code",
   "execution_count": 56,
   "metadata": {},
   "outputs": [
    {
     "name": "stdout",
     "output_type": "stream",
     "text": [
      "Change          Return          Volatility     \n",
      "-------------------------------------------\n"
     ]
    }
   ],
   "source": [
    "print(\"{:<15} {:<15} {:<15}\".format(\"Change\", \"Return\", \"Volatility\"))\n",
    "print(\"-\"*43)"
   ]
  },
  {
   "cell_type": "markdown",
   "metadata": {},
   "source": [
    "### Number Classes "
   ]
  },
  {
   "cell_type": "code",
   "execution_count": 57,
   "metadata": {},
   "outputs": [
    {
     "name": "stdout",
     "output_type": "stream",
     "text": [
      "<class 'int'>\n",
      "<class 'float'>\n"
     ]
    }
   ],
   "source": [
    "print(type(5))\n",
    "print(type(10.0))"
   ]
  },
  {
   "cell_type": "markdown",
   "metadata": {},
   "source": [
    "### Combining Stings and Numbers in Output"
   ]
  },
  {
   "cell_type": "code",
   "execution_count": 58,
   "metadata": {},
   "outputs": [
    {
     "name": "stdout",
     "output_type": "stream",
     "text": [
      "Change         Return         Volatility     \n",
      "-------------------------------------------\n",
      "2.31            0.015           0.2345         \n"
     ]
    }
   ],
   "source": [
    "print(\"{:<15}{:<15}{:<15}\".format(\"Change\", \"Return\", \"Volatility\"))\n",
    "print(\"-\"*43)\n",
    "# print as a string (Can`t make any operation )\n",
    "print(\"{:<15.2f} {:<15.3f} {:<15.4f}\".format(2.31,.0145, .2345))\n"
   ]
  },
  {
   "cell_type": "code",
   "execution_count": 59,
   "metadata": {},
   "outputs": [],
   "source": [
    "# setting up variable  \n",
    "x = 5\n",
    "y = 10.0\n"
   ]
  },
  {
   "cell_type": "markdown",
   "metadata": {},
   "source": [
    "### Mathematical Operators"
   ]
  },
  {
   "cell_type": "code",
   "execution_count": 60,
   "metadata": {},
   "outputs": [
    {
     "name": "stdout",
     "output_type": "stream",
     "text": [
      "15.0\n",
      "-5.0\n",
      "50.0\n",
      "0.5\n",
      "9765625.0\n",
      "0.0\n",
      "5.0\n"
     ]
    }
   ],
   "source": [
    "print(x + y) # add\n",
    "print(x - y) # sub\n",
    "print(x * y) # mul\n",
    "print(x / y) # div\n",
    "print(x ** y)# exponent\n",
    "print(x // y)# floor div\n",
    "print(x % y )# remain"
   ]
  },
  {
   "cell_type": "markdown",
   "metadata": {},
   "source": [
    "### Incrementing"
   ]
  },
  {
   "cell_type": "code",
   "execution_count": 67,
   "metadata": {},
   "outputs": [
    {
     "data": {
      "text/plain": [
       "18"
      ]
     },
     "execution_count": 67,
     "metadata": {},
     "output_type": "execute_result"
    }
   ],
   "source": [
    "x = 10\n",
    "x += 8  # operator = in(de)crementing number\n",
    "x\n"
   ]
  },
  {
   "cell_type": "code",
   "execution_count": null,
   "metadata": {},
   "outputs": [],
   "source": []
  }
 ],
 "metadata": {
  "kernelspec": {
   "display_name": "Python 3",
   "language": "python",
   "name": "python3"
  },
  "language_info": {
   "codemirror_mode": {
    "name": "ipython",
    "version": 3
   },
   "file_extension": ".py",
   "mimetype": "text/x-python",
   "name": "python",
   "nbconvert_exporter": "python",
   "pygments_lexer": "ipython3",
   "version": "3.6.6"
  }
 },
 "nbformat": 4,
 "nbformat_minor": 2
}
