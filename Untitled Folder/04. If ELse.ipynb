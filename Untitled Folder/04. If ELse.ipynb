{
 "cells": [
  {
   "cell_type": "markdown",
   "metadata": {},
   "source": [
    "# if ... elif ... else"
   ]
  },
  {
   "cell_type": "code",
   "execution_count": 3,
   "metadata": {},
   "outputs": [
    {
     "data": {
      "text/plain": [
       "{'CMEX': 168,\n",
       " 'COQB': 109,\n",
       " 'FIVN': 70,\n",
       " 'IATD': 101,\n",
       " 'IDKN': 195,\n",
       " 'JPTS': 177,\n",
       " 'JQFC': 103,\n",
       " 'KXLV': 129,\n",
       " 'NCPX': 162,\n",
       " 'QPGU': 35,\n",
       " 'RBFA': 171,\n",
       " 'RQMP': 38,\n",
       " 'SGUH': 136,\n",
       " 'TJZI': 201,\n",
       " 'TRFY': 28,\n",
       " 'WTBQ': 35,\n",
       " 'XCWQ': 168,\n",
       " 'XHVC': 20,\n",
       " 'YTOV': 107,\n",
       " 'ZSHR': 11}"
      ]
     },
     "execution_count": 3,
     "metadata": {},
     "output_type": "execute_result"
    }
   ],
   "source": [
    "str =\"ABCDEFGHIJKLMNOPQRSTUVWXYZ\"\n",
    "import random\n",
    "stocks ={}\n",
    "for i in range(20):\n",
    "   #generate 20 random key and values\n",
    "    stocks[\"\".join(random.sample(str,4))] = random.randint(6,231)\n",
    "stocks   "
   ]
  },
  {
   "cell_type": "code",
   "execution_count": 4,
   "metadata": {},
   "outputs": [
    {
     "name": "stdout",
     "output_type": "stream",
     "text": [
      "Value     Fair Price   Over-priced\n",
      "-------------------------------\n",
      "                           JPTS\n",
      "                           YTOV\n",
      "             ZSHR\n",
      "                           QPGU\n",
      "                           XHVC\n",
      "                           RBFA\n",
      "                           IDKN\n",
      "                           WTBQ\n",
      "                           JQFC\n",
      "                           TRFY\n",
      "                           KXLV\n",
      "                           SGUH\n",
      "                           NCPX\n",
      "                           RQMP\n",
      "                           IATD\n",
      "                           FIVN\n",
      "                           TJZI\n",
      "                           COQB\n",
      "                           CMEX\n",
      "                           XCWQ\n"
     ]
    }
   ],
   "source": [
    "print(\"{:9} {:12} {:10}\".format(\"Value\", \"Fair Price\", \"Over-priced\"))\n",
    "print(\"-\" * 31)\n",
    "for stock, PE in stocks.items():\n",
    "    if PE < 10:\n",
    "        print(\"{:<}\".format(stock))\n",
    "    elif PE < 20:\n",
    "        print(\"{:>17}\".format(stock))\n",
    "    else:\n",
    "        print(\"{:>31}\".format(stock))"
   ]
  },
  {
   "cell_type": "code",
   "execution_count": null,
   "metadata": {},
   "outputs": [],
   "source": []
  }
 ],
 "metadata": {
  "kernelspec": {
   "display_name": "Python 3",
   "language": "python",
   "name": "python3"
  },
  "language_info": {
   "codemirror_mode": {
    "name": "ipython",
    "version": 3
   },
   "file_extension": ".py",
   "mimetype": "text/x-python",
   "name": "python",
   "nbconvert_exporter": "python",
   "pygments_lexer": "ipython3",
   "version": "3.6.6"
  }
 },
 "nbformat": 4,
 "nbformat_minor": 2
}
