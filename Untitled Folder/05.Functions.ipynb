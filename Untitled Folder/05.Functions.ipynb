{
 "cells": [
  {
   "cell_type": "markdown",
   "metadata": {},
   "source": [
    "# Functions"
   ]
  },
  {
   "cell_type": "code",
   "execution_count": 1,
   "metadata": {},
   "outputs": [
    {
     "data": {
      "text/plain": [
       "{'AQTB': 181,\n",
       " 'CURW': 193,\n",
       " 'EZHO': 219,\n",
       " 'ILJQ': 10,\n",
       " 'ISOT': 29,\n",
       " 'KMGL': 204,\n",
       " 'MYHA': 25,\n",
       " 'PKUB': 184,\n",
       " 'PWCL': 79,\n",
       " 'QDZC': 165,\n",
       " 'QFJL': 118,\n",
       " 'QKLA': 62,\n",
       " 'TZLJ': 180,\n",
       " 'VZRA': 6,\n",
       " 'WIFZ': 206,\n",
       " 'WTDH': 38,\n",
       " 'XMFK': 111,\n",
       " 'YBAF': 81,\n",
       " 'YHBQ': 60,\n",
       " 'ZXNY': 113}"
      ]
     },
     "execution_count": 1,
     "metadata": {},
     "output_type": "execute_result"
    }
   ],
   "source": [
    "str =\"ABCDEFGHIJKLMNOPQRSTUVWXYZ\"\n",
    "import random\n",
    "stocks ={}\n",
    "for i in range(20):\n",
    "   #generate 20 random key and values\n",
    "    stocks[\"\".join(random.sample(str,4))] = random.randint(6,231)\n",
    "stocks   "
   ]
  },
  {
   "cell_type": "code",
   "execution_count": 8,
   "metadata": {},
   "outputs": [],
   "source": [
    "def value_stock(stocks):\n",
    "    for stock, Pe in stocks.items():\n",
    "        if Pe <10:\n",
    "            return stock\n",
    "    return ('We like value stocks!')"
   ]
  },
  {
   "cell_type": "code",
   "execution_count": 9,
   "metadata": {},
   "outputs": [
    {
     "data": {
      "text/plain": [
       "'VZRA'"
      ]
     },
     "execution_count": 9,
     "metadata": {},
     "output_type": "execute_result"
    }
   ],
   "source": [
    "value_stock(stocks)"
   ]
  },
  {
   "cell_type": "code",
   "execution_count": 10,
   "metadata": {},
   "outputs": [],
   "source": [
    "# documentation in \n",
    "def adder(low, high):\n",
    "    '''----------------------\n",
    "    Function to add a range of user specified integers\n",
    "    low: integer to start at\n",
    "    high integer to end at'''\n",
    "    value = 0\n",
    "    while low <= high:\n",
    "        value += low\n",
    "        low += 1\n",
    "    return value    "
   ]
  },
  {
   "cell_type": "code",
   "execution_count": 12,
   "metadata": {},
   "outputs": [
    {
     "data": {
      "text/plain": [
       "55"
      ]
     },
     "execution_count": 12,
     "metadata": {},
     "output_type": "execute_result"
    }
   ],
   "source": [
    "adder(1,10)"
   ]
  },
  {
   "cell_type": "code",
   "execution_count": 13,
   "metadata": {},
   "outputs": [
    {
     "name": "stdout",
     "output_type": "stream",
     "text": [
      "Help on function adder in module __main__:\n",
      "\n",
      "adder(low, high)\n",
      "    ----------------------\n",
      "    Function to add a range of user specified integers\n",
      "    low: integer to start at\n",
      "    high integer to end at\n",
      "\n"
     ]
    }
   ],
   "source": [
    "help(adder)"
   ]
  },
  {
   "cell_type": "code",
   "execution_count": null,
   "metadata": {},
   "outputs": [],
   "source": []
  }
 ],
 "metadata": {
  "kernelspec": {
   "display_name": "Python 3",
   "language": "python",
   "name": "python3"
  },
  "language_info": {
   "codemirror_mode": {
    "name": "ipython",
    "version": 3
   },
   "file_extension": ".py",
   "mimetype": "text/x-python",
   "name": "python",
   "nbconvert_exporter": "python",
   "pygments_lexer": "ipython3",
   "version": "3.6.6"
  }
 },
 "nbformat": 4,
 "nbformat_minor": 2
}
