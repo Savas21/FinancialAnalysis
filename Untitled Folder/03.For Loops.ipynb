{
 "cells": [
  {
   "cell_type": "markdown",
   "metadata": {},
   "source": [
    "# for loops (aka counter loops)"
   ]
  },
  {
   "cell_type": "code",
   "execution_count": 1,
   "metadata": {},
   "outputs": [
    {
     "data": {
      "text/plain": [
       "['GOOG', 'NFLX', 'AMZN', 'FB']"
      ]
     },
     "execution_count": 1,
     "metadata": {},
     "output_type": "execute_result"
    }
   ],
   "source": [
    "stocks = [\"GOOG\", \"NFLX\", \"AMZN\", \"FB\"]\n",
    "stocks"
   ]
  },
  {
   "cell_type": "code",
   "execution_count": 3,
   "metadata": {},
   "outputs": [
    {
     "name": "stdout",
     "output_type": "stream",
     "text": [
      "GOOG\n",
      "NFLX\n",
      "AMZN\n",
      "FB\n"
     ]
    }
   ],
   "source": [
    "# There are two kinds of loops: 1. Conditional, 2. Counting loops\n",
    "for stock in stocks:\n",
    "    print(stock)"
   ]
  },
  {
   "cell_type": "code",
   "execution_count": 14,
   "metadata": {},
   "outputs": [
    {
     "name": "stdout",
     "output_type": "stream",
     "text": [
      "Balance at year 1 \t= 1050.00\n",
      "Balance at year 2 \t= 1102.50\n",
      "Balance at year 3 \t= 1157.63\n",
      "Balance at year 4 \t= 1215.51\n",
      "Balance at year 5 \t= 1276.28\n",
      "Balance at year 6 \t= 1340.10\n",
      "Balance at year 7 \t= 1407.10\n",
      "Balance at year 8 \t= 1477.46\n",
      "Balance at year 9 \t= 1551.33\n",
      "Balance at year 10 \t= 1628.89\n",
      "Balance at year 11 \t= 1710.34\n",
      "Balance at year 12 \t= 1795.86\n"
     ]
    }
   ],
   "source": [
    "# calculate compounding balance in 10 year using loops\n",
    "beg_balance = 1000.\n",
    "rate = 0.05\n",
    "years = list(range(1,13)) # you need iterable item to loop through \n",
    "\n",
    "for year in years:\n",
    "    end_balance = beg_balance * (1+rate)**year\n",
    "    print(\"Balance at year {} \\t= {:.2f}\".format(year, end_balance))"
   ]
  },
  {
   "cell_type": "code",
   "execution_count": 6,
   "metadata": {},
   "outputs": [
    {
     "data": {
      "text/plain": [
       "range"
      ]
     },
     "execution_count": 6,
     "metadata": {},
     "output_type": "execute_result"
    }
   ],
   "source": [
    " type(range(1,11))"
   ]
  },
  {
   "cell_type": "markdown",
   "metadata": {},
   "source": [
    "### Dict Loops"
   ]
  },
  {
   "cell_type": "code",
   "execution_count": 16,
   "metadata": {},
   "outputs": [],
   "source": [
    "stocks = {\"GOOG\": 1102, \"NFLX\" : 364, \"AMZN\": 1398, \"FB\" :119}"
   ]
  },
  {
   "cell_type": "code",
   "execution_count": 21,
   "metadata": {},
   "outputs": [
    {
     "name": "stdout",
     "output_type": "stream",
     "text": [
      "GOOG\t : 1102\n",
      "NFLX\t : 364\n",
      "AMZN\t : 1398\n",
      "FB\t : 119\n"
     ]
    }
   ],
   "source": [
    "for key, value in stocks.items():\n",
    "    print(\"{}\\t : {}\".format(key,value))"
   ]
  },
  {
   "cell_type": "code",
   "execution_count": null,
   "metadata": {},
   "outputs": [],
   "source": []
  }
 ],
 "metadata": {
  "kernelspec": {
   "display_name": "Python 3",
   "language": "python",
   "name": "python3"
  },
  "language_info": {
   "codemirror_mode": {
    "name": "ipython",
    "version": 3
   },
   "file_extension": ".py",
   "mimetype": "text/x-python",
   "name": "python",
   "nbconvert_exporter": "python",
   "pygments_lexer": "ipython3",
   "version": "3.6.6"
  }
 },
 "nbformat": 4,
 "nbformat_minor": 2
}
