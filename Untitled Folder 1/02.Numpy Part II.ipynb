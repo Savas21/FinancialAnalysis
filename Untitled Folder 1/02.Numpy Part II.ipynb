{
 "cells": [
  {
   "cell_type": "markdown",
   "metadata": {},
   "source": [
    "# Numpy Part II"
   ]
  },
  {
   "cell_type": "code",
   "execution_count": 34,
   "metadata": {},
   "outputs": [],
   "source": [
    "import numpy as np"
   ]
  },
  {
   "cell_type": "code",
   "execution_count": 35,
   "metadata": {},
   "outputs": [],
   "source": [
    "a_zero = np.zeros((5,5))\n",
    "a_ones = np.ones((5,5))\n",
    "a_eye  = np.eye(5,5 ,k=0) \n",
    "a_empy = np.empty((25,25)) "
   ]
  },
  {
   "cell_type": "code",
   "execution_count": 36,
   "metadata": {},
   "outputs": [
    {
     "data": {
      "text/plain": [
       "array([[1., 1., 1., 1., 1.],\n",
       "       [1., 1., 1., 1., 1.],\n",
       "       [1., 1., 1., 1., 1.],\n",
       "       [1., 1., 1., 1., 1.],\n",
       "       [1., 1., 1., 1., 1.]])"
      ]
     },
     "execution_count": 36,
     "metadata": {},
     "output_type": "execute_result"
    }
   ],
   "source": [
    "a_ones"
   ]
  },
  {
   "cell_type": "code",
   "execution_count": 37,
   "metadata": {},
   "outputs": [
    {
     "data": {
      "text/plain": [
       "array([-4.        , -3.79487179, -3.58974359, -3.38461538, -3.17948718,\n",
       "       -2.97435897, -2.76923077, -2.56410256, -2.35897436, -2.15384615,\n",
       "       -1.94871795, -1.74358974, -1.53846154, -1.33333333, -1.12820513,\n",
       "       -0.92307692, -0.71794872, -0.51282051, -0.30769231, -0.1025641 ,\n",
       "        0.1025641 ,  0.30769231,  0.51282051,  0.71794872,  0.92307692,\n",
       "        1.12820513,  1.33333333,  1.53846154,  1.74358974,  1.94871795,\n",
       "        2.15384615,  2.35897436,  2.56410256,  2.76923077,  2.97435897,\n",
       "        3.17948718,  3.38461538,  3.58974359,  3.79487179,  4.        ])"
      ]
     },
     "execution_count": 37,
     "metadata": {},
     "output_type": "execute_result"
    }
   ],
   "source": [
    "# create equally spaced array\n",
    "a_linspace = np.linspace(-4,4,40)\n",
    "a_linspace\n"
   ]
  },
  {
   "cell_type": "markdown",
   "metadata": {},
   "source": [
    "### Math Operations"
   ]
  },
  {
   "cell_type": "code",
   "execution_count": 54,
   "metadata": {},
   "outputs": [
    {
     "data": {
      "text/plain": [
       "array([[ 0,  1,  2,  3,  4],\n",
       "       [ 5,  6,  7,  8,  9],\n",
       "       [10, 11, 12, 13, 14]])"
      ]
     },
     "execution_count": 54,
     "metadata": {},
     "output_type": "execute_result"
    }
   ],
   "source": [
    "a = np.arange(15).reshape(3,5)\n",
    "a"
   ]
  },
  {
   "cell_type": "code",
   "execution_count": 55,
   "metadata": {},
   "outputs": [
    {
     "data": {
      "text/plain": [
       "array([[  0,   1,   4,   9,  16],\n",
       "       [ 25,  36,  49,  64,  81],\n",
       "       [100, 121, 144, 169, 196]])"
      ]
     },
     "execution_count": 55,
     "metadata": {},
     "output_type": "execute_result"
    }
   ],
   "source": [
    "a**2"
   ]
  },
  {
   "cell_type": "code",
   "execution_count": 56,
   "metadata": {},
   "outputs": [
    {
     "data": {
      "text/plain": [
       "array([[ 0,  1,  2,  3,  4],\n",
       "       [ 5,  6,  7,  8,  9],\n",
       "       [10, 11, 12, 13, 14]])"
      ]
     },
     "execution_count": 56,
     "metadata": {},
     "output_type": "execute_result"
    }
   ],
   "source": [
    "b = np.arange(15).reshape(3,5)\n",
    "b"
   ]
  },
  {
   "cell_type": "code",
   "execution_count": 57,
   "metadata": {},
   "outputs": [
    {
     "data": {
      "text/plain": [
       "array([[0, 0, 0, 0, 0],\n",
       "       [0, 0, 0, 0, 0],\n",
       "       [0, 0, 0, 0, 0]])"
      ]
     },
     "execution_count": 57,
     "metadata": {},
     "output_type": "execute_result"
    }
   ],
   "source": [
    "a-b"
   ]
  },
  {
   "cell_type": "code",
   "execution_count": 88,
   "metadata": {},
   "outputs": [
    {
     "data": {
      "text/plain": [
       "array([[ 1,  1,  2,  3,  4],\n",
       "       [ 5,  6,  7,  8,  9],\n",
       "       [10, 11, 12, 13, 14]])"
      ]
     },
     "execution_count": 88,
     "metadata": {},
     "output_type": "execute_result"
    }
   ],
   "source": [
    "a"
   ]
  },
  {
   "cell_type": "code",
   "execution_count": 87,
   "metadata": {},
   "outputs": [
    {
     "data": {
      "text/plain": [
       "array([[False,  True,  True,  True,  True],\n",
       "       [ True,  True,  True,  True,  True],\n",
       "       [ True,  True,  True,  True,  True]])"
      ]
     },
     "execution_count": 87,
     "metadata": {},
     "output_type": "execute_result"
    }
   ],
   "source": [
    "# masking\n",
    "a[0,0] = 1\n",
    "mask = b==a\n",
    "mask"
   ]
  },
  {
   "cell_type": "code",
   "execution_count": 79,
   "metadata": {},
   "outputs": [
    {
     "data": {
      "text/plain": [
       "18"
      ]
     },
     "execution_count": 79,
     "metadata": {},
     "output_type": "execute_result"
    }
   ],
   "source": [
    "# summarizing \n",
    "a.sum()\n",
    "a.min()\n",
    "a.mean()\n",
    "a.max()\n",
    "a.std()\n",
    "a[:,1].sum()"
   ]
  },
  {
   "cell_type": "code",
   "execution_count": 82,
   "metadata": {},
   "outputs": [
    {
     "data": {
      "text/plain": [
       "array([[ 0.8971642 , -0.50944927,  1.19323101,  0.71775305,  0.37923784],\n",
       "       [ 0.34301639, -0.67820776, -0.88151199, -0.17512904,  0.64253505],\n",
       "       [ 0.00978767,  1.05121809,  1.21337219,  1.19423837, -0.7012679 ]])"
      ]
     },
     "execution_count": 82,
     "metadata": {},
     "output_type": "execute_result"
    }
   ],
   "source": [
    "# numpy random module \n",
    "import numpy.random as npr\n",
    "npr.standard_normal((3,5))"
   ]
  },
  {
   "cell_type": "code",
   "execution_count": 85,
   "metadata": {},
   "outputs": [
    {
     "data": {
      "text/plain": [
       "array([ 1.2770588 ,  0.33094254, -2.17953991, -0.3362236 , -1.69688526,\n",
       "       -2.00110369, -0.98084772,  0.8161814 ,  1.25277794, -1.75611197,\n",
       "       -0.55702214,  1.96941887, -0.54676746,  0.80344616, -0.78636175,\n",
       "       -0.95301731,  1.23450648,  1.21032574, -0.67873074,  0.4181124 ,\n",
       "        0.58696229, -0.36371923,  0.29496067,  0.8118152 ,  0.88939178])"
      ]
     },
     "execution_count": 85,
     "metadata": {},
     "output_type": "execute_result"
    }
   ],
   "source": [
    "# choosing every n-th values\n",
    "\n",
    "x = npr.standard_normal(500)\n",
    "x[:25]"
   ]
  },
  {
   "cell_type": "code",
   "execution_count": 86,
   "metadata": {},
   "outputs": [
    {
     "data": {
      "text/plain": [
       "array([ 1.2770588 , -0.54676746,  0.88939178,  1.62865989,  0.56161044,\n",
       "       -0.40869949, -0.03356808,  0.14638017, -1.18048092, -0.01742779,\n",
       "        0.1655315 , -0.66480923,  1.29483846,  0.40388224,  0.28049103,\n",
       "        0.15773008,  1.12125707,  0.14579796, -0.78494537,  0.86838785,\n",
       "       -0.90941504,  0.86250401, -0.02161579, -1.03677451,  0.54256524,\n",
       "       -0.02996605,  0.12980355, -0.49686862,  1.36391843, -0.75318336,\n",
       "       -0.74216665, -0.41331177, -0.28424976,  0.63432036,  1.55074269,\n",
       "       -0.64741155,  0.72512084,  0.34257611,  0.35437948,  0.30696053,\n",
       "        1.35032491, -0.09503282])"
      ]
     },
     "execution_count": 86,
     "metadata": {},
     "output_type": "execute_result"
    }
   ],
   "source": [
    "x[::12]"
   ]
  },
  {
   "cell_type": "code",
   "execution_count": null,
   "metadata": {},
   "outputs": [],
   "source": []
  }
 ],
 "metadata": {
  "kernelspec": {
   "display_name": "Python 3",
   "language": "python",
   "name": "python3"
  },
  "language_info": {
   "codemirror_mode": {
    "name": "ipython",
    "version": 3
   },
   "file_extension": ".py",
   "mimetype": "text/x-python",
   "name": "python",
   "nbconvert_exporter": "python",
   "pygments_lexer": "ipython3",
   "version": "3.6.6"
  }
 },
 "nbformat": 4,
 "nbformat_minor": 2
}
