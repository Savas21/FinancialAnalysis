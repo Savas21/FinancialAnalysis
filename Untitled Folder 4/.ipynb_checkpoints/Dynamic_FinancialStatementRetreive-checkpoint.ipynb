{
 "cells": [
  {
   "cell_type": "markdown",
   "metadata": {},
   "source": [
    "# Retrieve Given Company Name Financials "
   ]
  },
  {
   "cell_type": "code",
   "execution_count": 22,
   "metadata": {},
   "outputs": [
    {
     "name": "stdout",
     "output_type": "stream",
     "text": [
      "GOOGL`s financial statement for last six quarter\n"
     ]
    },
    {
     "data": {
      "text/html": [
       "<div>\n",
       "<style scoped>\n",
       "    .dataframe tbody tr th:only-of-type {\n",
       "        vertical-align: middle;\n",
       "    }\n",
       "\n",
       "    .dataframe tbody tr th {\n",
       "        vertical-align: top;\n",
       "    }\n",
       "\n",
       "    .dataframe thead th {\n",
       "        text-align: right;\n",
       "    }\n",
       "</style>\n",
       "<table border=\"1\" class=\"dataframe\">\n",
       "  <thead>\n",
       "    <tr style=\"text-align: right;\">\n",
       "      <th></th>\n",
       "      <th>date</th>\n",
       "      <th>2020-03-31</th>\n",
       "      <th>2019-12-31</th>\n",
       "      <th>2019-09-30</th>\n",
       "      <th>2019-06-30</th>\n",
       "      <th>2019-03-31</th>\n",
       "      <th>2018-12-31</th>\n",
       "    </tr>\n",
       "  </thead>\n",
       "  <tbody>\n",
       "    <tr>\n",
       "      <th>1</th>\n",
       "      <td>Revenue</td>\n",
       "      <td>41,159,000,000.0</td>\n",
       "      <td>46,075,000,000.0</td>\n",
       "      <td>40,499,000,000.0</td>\n",
       "      <td>38,944,000,000.0</td>\n",
       "      <td>36,339,000,000.0</td>\n",
       "      <td>39,276,000,000.0</td>\n",
       "    </tr>\n",
       "    <tr>\n",
       "      <th>2</th>\n",
       "      <td>Revenue Growth</td>\n",
       "      <td>-0.106695604992</td>\n",
       "      <td>0.137682411911</td>\n",
       "      <td>0.0399291290058</td>\n",
       "      <td>0.07168606731060001</td>\n",
       "      <td>-0.0747784906813</td>\n",
       "      <td>0.164078245406</td>\n",
       "    </tr>\n",
       "    <tr>\n",
       "      <th>3</th>\n",
       "      <td>Cost of Revenue</td>\n",
       "      <td>18,982,000,000.0</td>\n",
       "      <td>21,020,000,000.0</td>\n",
       "      <td>17,568,000,000.0</td>\n",
       "      <td>17,296,000,000.0</td>\n",
       "      <td>16,012,000,000.0</td>\n",
       "      <td>17,918,000,000.0</td>\n",
       "    </tr>\n",
       "    <tr>\n",
       "      <th>4</th>\n",
       "      <td>Gross Profit</td>\n",
       "      <td>22,177,000,000.0</td>\n",
       "      <td>25,055,000,000.0</td>\n",
       "      <td>22,931,000,000.0</td>\n",
       "      <td>21,648,000,000.0</td>\n",
       "      <td>20,327,000,000.0</td>\n",
       "      <td>21,358,000,000.0</td>\n",
       "    </tr>\n",
       "    <tr>\n",
       "      <th>5</th>\n",
       "      <td>R&amp;D Expenses</td>\n",
       "      <td>6,820,000,000.0</td>\n",
       "      <td>7,222,000,000.0</td>\n",
       "      <td>6,554,000,000.0</td>\n",
       "      <td>6,213,000,000.0</td>\n",
       "      <td>6,029,000,000.0</td>\n",
       "      <td>6,034,000,000.0</td>\n",
       "    </tr>\n",
       "    <tr>\n",
       "      <th>6</th>\n",
       "      <td>SG&amp;A Expense</td>\n",
       "      <td>7,380,000,000.0</td>\n",
       "      <td>8,567,000,000.0</td>\n",
       "      <td>7,200,000,000.0</td>\n",
       "      <td>6,255,000,000.0</td>\n",
       "      <td>5,993,000,000.0</td>\n",
       "      <td>7,121,000,000.0</td>\n",
       "    </tr>\n",
       "    <tr>\n",
       "      <th>7</th>\n",
       "      <td>Operating Expenses</td>\n",
       "      <td>14,200,000,000.0</td>\n",
       "      <td>15,789,000,000.0</td>\n",
       "      <td>13,754,000,000.0</td>\n",
       "      <td>12,468,000,000.0</td>\n",
       "      <td>12,022,000,000.0</td>\n",
       "      <td>13,155,000,000.0</td>\n",
       "    </tr>\n",
       "    <tr>\n",
       "      <th>8</th>\n",
       "      <td>Operating Income</td>\n",
       "      <td>7,977,000,000.0</td>\n",
       "      <td>9,266,000,000.0</td>\n",
       "      <td>9,177,000,000.0</td>\n",
       "      <td>9,180,000,000.0</td>\n",
       "      <td>6,608,000,000.0</td>\n",
       "      <td>8,203,000,000.0</td>\n",
       "    </tr>\n",
       "    <tr>\n",
       "      <th>9</th>\n",
       "      <td>Interest Expense</td>\n",
       "      <td>21,000,000.0</td>\n",
       "      <td>17,000,000.0</td>\n",
       "      <td>23,000,000.0</td>\n",
       "      <td>25,000,000.0</td>\n",
       "      <td>35,000,000.0</td>\n",
       "      <td>29,000,000.0</td>\n",
       "    </tr>\n",
       "    <tr>\n",
       "      <th>10</th>\n",
       "      <td>Earnings before Tax</td>\n",
       "      <td>7,757,000,000.0</td>\n",
       "      <td>10,704,000,000.0</td>\n",
       "      <td>8,628,000,000.0</td>\n",
       "      <td>12,147,000,000.0</td>\n",
       "      <td>8,146,000,000.0</td>\n",
       "      <td>10,072,000,000.0</td>\n",
       "    </tr>\n",
       "    <tr>\n",
       "      <th>11</th>\n",
       "      <td>Income Tax Expense</td>\n",
       "      <td>921,000,000.0</td>\n",
       "      <td>33,000,000.0</td>\n",
       "      <td>1,560,000,000.0</td>\n",
       "      <td>2,200,000,000.0</td>\n",
       "      <td>1,489,000,000.0</td>\n",
       "      <td>1,124,000,000.0</td>\n",
       "    </tr>\n",
       "    <tr>\n",
       "      <th>12</th>\n",
       "      <td>Net Income - Non-Controlling int</td>\n",
       "      <td>0.0</td>\n",
       "      <td>0.0</td>\n",
       "      <td>0.0</td>\n",
       "      <td>0.0</td>\n",
       "      <td>0.0</td>\n",
       "      <td>0.0</td>\n",
       "    </tr>\n",
       "    <tr>\n",
       "      <th>13</th>\n",
       "      <td>Net Income - Discontinued ops</td>\n",
       "      <td>0.0</td>\n",
       "      <td>0.0</td>\n",
       "      <td>0.0</td>\n",
       "      <td>0.0</td>\n",
       "      <td>0.0</td>\n",
       "      <td>0.0</td>\n",
       "    </tr>\n",
       "    <tr>\n",
       "      <th>14</th>\n",
       "      <td>Net Income</td>\n",
       "      <td>6,836,000,000.0</td>\n",
       "      <td>10,671,000,000.0</td>\n",
       "      <td>7,068,000,000.0</td>\n",
       "      <td>9,947,000,000.0</td>\n",
       "      <td>6,657,000,000.0</td>\n",
       "      <td>8,948,000,000.0</td>\n",
       "    </tr>\n",
       "    <tr>\n",
       "      <th>15</th>\n",
       "      <td>Preferred Dividends</td>\n",
       "      <td>0.0</td>\n",
       "      <td>0.0</td>\n",
       "      <td>0.0</td>\n",
       "      <td>0.0</td>\n",
       "      <td>0.0</td>\n",
       "      <td>0.0</td>\n",
       "    </tr>\n",
       "    <tr>\n",
       "      <th>16</th>\n",
       "      <td>Net Income Com</td>\n",
       "      <td>6,836,000,000.0</td>\n",
       "      <td>10,671,000,000.0</td>\n",
       "      <td>7,068,000,000.0</td>\n",
       "      <td>9,947,000,000.0</td>\n",
       "      <td>6,657,000,000.0</td>\n",
       "      <td>8,948,000,000.0</td>\n",
       "    </tr>\n",
       "    <tr>\n",
       "      <th>17</th>\n",
       "      <td>EPS</td>\n",
       "      <td>9.96</td>\n",
       "      <td>15.47</td>\n",
       "      <td>10.21</td>\n",
       "      <td>14.33</td>\n",
       "      <td>9.58</td>\n",
       "      <td>12.88</td>\n",
       "    </tr>\n",
       "    <tr>\n",
       "      <th>18</th>\n",
       "      <td>EPS Diluted</td>\n",
       "      <td>9.87</td>\n",
       "      <td>15.33</td>\n",
       "      <td>10.12</td>\n",
       "      <td>14.21</td>\n",
       "      <td>9.5</td>\n",
       "      <td>12.75</td>\n",
       "    </tr>\n",
       "    <tr>\n",
       "      <th>19</th>\n",
       "      <td>Weighted Average Shs Out</td>\n",
       "      <td>300,249,000.0</td>\n",
       "      <td>346,667,000.0</td>\n",
       "      <td>347,818,000.0</td>\n",
       "      <td>348,832,000.0</td>\n",
       "      <td>0.0</td>\n",
       "      <td>349,728,000.0</td>\n",
       "    </tr>\n",
       "    <tr>\n",
       "      <th>20</th>\n",
       "      <td>Weighted Average Shs Out (Dil)</td>\n",
       "      <td>346,853,000.0</td>\n",
       "      <td>352,214,000.0</td>\n",
       "      <td>353,187,000.0</td>\n",
       "      <td>354,348,000.0</td>\n",
       "      <td>0.0</td>\n",
       "      <td>357,184,000.0</td>\n",
       "    </tr>\n",
       "    <tr>\n",
       "      <th>21</th>\n",
       "      <td>Dividend per Share</td>\n",
       "      <td>0.0</td>\n",
       "      <td>0.0</td>\n",
       "      <td>0.0</td>\n",
       "      <td>0.0</td>\n",
       "      <td>0.0</td>\n",
       "      <td>0.0</td>\n",
       "    </tr>\n",
       "    <tr>\n",
       "      <th>22</th>\n",
       "      <td>Gross Margin</td>\n",
       "      <td>0.538812896329</td>\n",
       "      <td>0.54378730331</td>\n",
       "      <td>0.566211511395</td>\n",
       "      <td>0.555875102712</td>\n",
       "      <td>0.559371474174</td>\n",
       "      <td>0.543792646909</td>\n",
       "    </tr>\n",
       "    <tr>\n",
       "      <th>23</th>\n",
       "      <td>EBITDA Margin</td>\n",
       "      <td>0.269321412085</td>\n",
       "      <td>0.275181768855</td>\n",
       "      <td>0.29869873330200003</td>\n",
       "      <td>0.308519926048</td>\n",
       "      <td>0.253749415229</td>\n",
       "      <td>0.274544250942</td>\n",
       "    </tr>\n",
       "    <tr>\n",
       "      <th>24</th>\n",
       "      <td>EBIT Margin</td>\n",
       "      <td>0.193809373406</td>\n",
       "      <td>0.201106890939</td>\n",
       "      <td>0.22659818761</td>\n",
       "      <td>0.23572308956500002</td>\n",
       "      <td>0.181843198767</td>\n",
       "      <td>0.20885528057799999</td>\n",
       "    </tr>\n",
       "    <tr>\n",
       "      <th>25</th>\n",
       "      <td>Profit Margin</td>\n",
       "      <td>0.166087611458</td>\n",
       "      <td>0.231600651112</td>\n",
       "      <td>0.174522827724</td>\n",
       "      <td>0.255418036154</td>\n",
       "      <td>0.18319161231699999</td>\n",
       "      <td>0.22782360729200002</td>\n",
       "    </tr>\n",
       "    <tr>\n",
       "      <th>26</th>\n",
       "      <td>Free Cash Flow margin</td>\n",
       "      <td>0.127699895527</td>\n",
       "      <td>0.135279435703</td>\n",
       "      <td>0.212548457987</td>\n",
       "      <td>0.16313167625299999</td>\n",
       "      <td>0.19986791050900002</td>\n",
       "      <td>0.149378755474</td>\n",
       "    </tr>\n",
       "    <tr>\n",
       "      <th>27</th>\n",
       "      <td>EBITDA</td>\n",
       "      <td>11,085,000,000.0</td>\n",
       "      <td>12,679,000,000.0</td>\n",
       "      <td>12,097,000,000.0</td>\n",
       "      <td>12,015,000,000.0</td>\n",
       "      <td>9,221,000,000.0</td>\n",
       "      <td>10,783,000,000.0</td>\n",
       "    </tr>\n",
       "    <tr>\n",
       "      <th>28</th>\n",
       "      <td>EBIT</td>\n",
       "      <td>7,977,000,000.0</td>\n",
       "      <td>9,266,000,000.0</td>\n",
       "      <td>9,177,000,000.0</td>\n",
       "      <td>9,180,000,000.0</td>\n",
       "      <td>6,608,000,000.0</td>\n",
       "      <td>8,203,000,000.0</td>\n",
       "    </tr>\n",
       "    <tr>\n",
       "      <th>29</th>\n",
       "      <td>Consolidated Income</td>\n",
       "      <td>6,836,000,000.0</td>\n",
       "      <td>10,671,000,000.0</td>\n",
       "      <td>7,068,000,000.0</td>\n",
       "      <td>9,947,000,000.0</td>\n",
       "      <td>6,657,000,000.0</td>\n",
       "      <td>8,948,000,000.0</td>\n",
       "    </tr>\n",
       "    <tr>\n",
       "      <th>30</th>\n",
       "      <td>Earnings Before Tax Margin</td>\n",
       "      <td>0.18846424840300002</td>\n",
       "      <td>0.232316874661</td>\n",
       "      <td>0.213042297341</td>\n",
       "      <td>0.311909408381</td>\n",
       "      <td>0.224166873056</td>\n",
       "      <td>0.25644159283</td>\n",
       "    </tr>\n",
       "    <tr>\n",
       "      <th>31</th>\n",
       "      <td>Net Profit Margin</td>\n",
       "      <td>0.166087611458</td>\n",
       "      <td>0.231600651112</td>\n",
       "      <td>0.174522827724</td>\n",
       "      <td>0.255418036154</td>\n",
       "      <td>0.18319161231699999</td>\n",
       "      <td>0.22782360729200002</td>\n",
       "    </tr>\n",
       "  </tbody>\n",
       "</table>\n",
       "</div>"
      ],
      "text/plain": [
       "0                               date          2020-03-31       2019-12-31  \\\n",
       "1                            Revenue    41,159,000,000.0 46,075,000,000.0   \n",
       "2                     Revenue Growth     -0.106695604992   0.137682411911   \n",
       "3                    Cost of Revenue    18,982,000,000.0 21,020,000,000.0   \n",
       "4                       Gross Profit    22,177,000,000.0 25,055,000,000.0   \n",
       "5                       R&D Expenses     6,820,000,000.0  7,222,000,000.0   \n",
       "6                       SG&A Expense     7,380,000,000.0  8,567,000,000.0   \n",
       "7                 Operating Expenses    14,200,000,000.0 15,789,000,000.0   \n",
       "8                   Operating Income     7,977,000,000.0  9,266,000,000.0   \n",
       "9                   Interest Expense        21,000,000.0     17,000,000.0   \n",
       "10               Earnings before Tax     7,757,000,000.0 10,704,000,000.0   \n",
       "11                Income Tax Expense       921,000,000.0     33,000,000.0   \n",
       "12  Net Income - Non-Controlling int                 0.0              0.0   \n",
       "13     Net Income - Discontinued ops                 0.0              0.0   \n",
       "14                        Net Income     6,836,000,000.0 10,671,000,000.0   \n",
       "15               Preferred Dividends                 0.0              0.0   \n",
       "16                    Net Income Com     6,836,000,000.0 10,671,000,000.0   \n",
       "17                               EPS                9.96            15.47   \n",
       "18                       EPS Diluted                9.87            15.33   \n",
       "19          Weighted Average Shs Out       300,249,000.0    346,667,000.0   \n",
       "20    Weighted Average Shs Out (Dil)       346,853,000.0    352,214,000.0   \n",
       "21                Dividend per Share                 0.0              0.0   \n",
       "22                      Gross Margin      0.538812896329    0.54378730331   \n",
       "23                     EBITDA Margin      0.269321412085   0.275181768855   \n",
       "24                       EBIT Margin      0.193809373406   0.201106890939   \n",
       "25                     Profit Margin      0.166087611458   0.231600651112   \n",
       "26             Free Cash Flow margin      0.127699895527   0.135279435703   \n",
       "27                            EBITDA    11,085,000,000.0 12,679,000,000.0   \n",
       "28                              EBIT     7,977,000,000.0  9,266,000,000.0   \n",
       "29               Consolidated Income     6,836,000,000.0 10,671,000,000.0   \n",
       "30        Earnings Before Tax Margin 0.18846424840300002   0.232316874661   \n",
       "31                 Net Profit Margin      0.166087611458   0.231600651112   \n",
       "\n",
       "0           2019-09-30          2019-06-30          2019-03-31  \\\n",
       "1     40,499,000,000.0    38,944,000,000.0    36,339,000,000.0   \n",
       "2      0.0399291290058 0.07168606731060001    -0.0747784906813   \n",
       "3     17,568,000,000.0    17,296,000,000.0    16,012,000,000.0   \n",
       "4     22,931,000,000.0    21,648,000,000.0    20,327,000,000.0   \n",
       "5      6,554,000,000.0     6,213,000,000.0     6,029,000,000.0   \n",
       "6      7,200,000,000.0     6,255,000,000.0     5,993,000,000.0   \n",
       "7     13,754,000,000.0    12,468,000,000.0    12,022,000,000.0   \n",
       "8      9,177,000,000.0     9,180,000,000.0     6,608,000,000.0   \n",
       "9         23,000,000.0        25,000,000.0        35,000,000.0   \n",
       "10     8,628,000,000.0    12,147,000,000.0     8,146,000,000.0   \n",
       "11     1,560,000,000.0     2,200,000,000.0     1,489,000,000.0   \n",
       "12                 0.0                 0.0                 0.0   \n",
       "13                 0.0                 0.0                 0.0   \n",
       "14     7,068,000,000.0     9,947,000,000.0     6,657,000,000.0   \n",
       "15                 0.0                 0.0                 0.0   \n",
       "16     7,068,000,000.0     9,947,000,000.0     6,657,000,000.0   \n",
       "17               10.21               14.33                9.58   \n",
       "18               10.12               14.21                 9.5   \n",
       "19       347,818,000.0       348,832,000.0                 0.0   \n",
       "20       353,187,000.0       354,348,000.0                 0.0   \n",
       "21                 0.0                 0.0                 0.0   \n",
       "22      0.566211511395      0.555875102712      0.559371474174   \n",
       "23 0.29869873330200003      0.308519926048      0.253749415229   \n",
       "24       0.22659818761 0.23572308956500002      0.181843198767   \n",
       "25      0.174522827724      0.255418036154 0.18319161231699999   \n",
       "26      0.212548457987 0.16313167625299999 0.19986791050900002   \n",
       "27    12,097,000,000.0    12,015,000,000.0     9,221,000,000.0   \n",
       "28     9,177,000,000.0     9,180,000,000.0     6,608,000,000.0   \n",
       "29     7,068,000,000.0     9,947,000,000.0     6,657,000,000.0   \n",
       "30      0.213042297341      0.311909408381      0.224166873056   \n",
       "31      0.174522827724      0.255418036154 0.18319161231699999   \n",
       "\n",
       "0           2018-12-31  \n",
       "1     39,276,000,000.0  \n",
       "2       0.164078245406  \n",
       "3     17,918,000,000.0  \n",
       "4     21,358,000,000.0  \n",
       "5      6,034,000,000.0  \n",
       "6      7,121,000,000.0  \n",
       "7     13,155,000,000.0  \n",
       "8      8,203,000,000.0  \n",
       "9         29,000,000.0  \n",
       "10    10,072,000,000.0  \n",
       "11     1,124,000,000.0  \n",
       "12                 0.0  \n",
       "13                 0.0  \n",
       "14     8,948,000,000.0  \n",
       "15                 0.0  \n",
       "16     8,948,000,000.0  \n",
       "17               12.88  \n",
       "18               12.75  \n",
       "19       349,728,000.0  \n",
       "20       357,184,000.0  \n",
       "21                 0.0  \n",
       "22      0.543792646909  \n",
       "23      0.274544250942  \n",
       "24 0.20885528057799999  \n",
       "25 0.22782360729200002  \n",
       "26      0.149378755474  \n",
       "27    10,783,000,000.0  \n",
       "28     8,203,000,000.0  \n",
       "29     8,948,000,000.0  \n",
       "30       0.25644159283  \n",
       "31 0.22782360729200002  "
      ]
     },
     "execution_count": 22,
     "metadata": {},
     "output_type": "execute_result"
    }
   ],
   "source": [
    "# import dependencies \n",
    "import plotly.graph_objects as go\n",
    "import requests\n",
    "import pandas as pd\n",
    "import os \n",
    "\n",
    "pd.options.display.float_format= '{:,}'.format\n",
    "api_key= os.environ.get(\"FMP_api\")\n",
    "\n",
    "# Edit the company that you want to retreive financial statements\n",
    "company = 'GOOGL'\n",
    "\n",
    "def getFinancials(company):\n",
    "    # get request \n",
    "    r = requests.get(f\"https://financialmodelingprep.com/api/v3/financials/income-statement/{company}?period=quarter&apikey={api_key}\")\n",
    "    r = r.json() # Convert string to Json format\n",
    "    d = r['financials'] # filter to financials dict only\n",
    "\n",
    "    count = 0\n",
    "    # loop over each record \n",
    "    for item in d:\n",
    "        if count == 0:\n",
    "            d = r['financials']\n",
    "            d = d[0]\n",
    "            # convert dictionary to dataframe and rename the columns name \n",
    "            income_initial = pd.DataFrame(list(d.items()),columns=['Item','Value'])\n",
    "        count = count + 1\n",
    "        if count > 5:\n",
    "            continue\n",
    "        d = r['financials']\n",
    "        d = d[count]\n",
    "        \n",
    "        income_initial2 = pd.DataFrame(list(d.items()),columns=['Item','Value'])\n",
    "        # Left join each items in the list \n",
    "        income_initial = income_initial.merge(income_initial2, on='Item', how='left')\n",
    "\n",
    "    # replace column name with first row \n",
    "    income_initial.columns = income_initial.iloc[0]\n",
    "    income_initial = income_initial[1:] # remove the first row that is not needed\n",
    "    # convert columns type to integer from string\n",
    "    cols = income_initial.columns[1:]\n",
    "    income_initial[cols]= income_initial[cols].apply(pd.to_numeric, errors =\"coerce\")\n",
    "    return income_initial\n",
    "\n",
    "income_initial = getFinancials(company)\n",
    "print(f'{company}`s financial statement for last six quarter')\n",
    "income_initial"
   ]
  },
  {
   "cell_type": "markdown",
   "metadata": {},
   "source": [
    "# Visualize Financials using plotly"
   ]
  },
  {
   "cell_type": "code",
   "execution_count": 18,
   "metadata": {},
   "outputs": [],
   "source": [
    "# Set up the variables \n",
    "Rev = income_initial[income_initial['date'] == 'Revenue'].iloc[0][1]# Revenue\n",
    "CoGS = income_initial[income_initial['date'] == 'Cost of Revenue'].iloc[0][1]*-1 # Cost of Revenue\n",
    "GrossProf = income_initial[income_initial['date'] == 'Gross Profit'].iloc[0][1] # Gross Profit \n",
    "\n",
    "RD = income_initial[income_initial['date'] == 'R&D Expenses'].iloc[0][1]*-1 # Research Development Expenses\n",
    "\n",
    "GA = income_initial[income_initial['date'] == 'SG&A Expense'].iloc[0][1]*-1 # General Administration Expenses\n",
    "\n",
    "OperExp = income_initial[income_initial['date'] == 'Operating Expenses'].iloc[0][1]*-1 # Operation Expenses\n",
    "\n",
    "Int = income_initial[income_initial['date'] == 'Interest Expense'].iloc[0][1]*-1# Interest Expense\n",
    "EBT = income_initial[income_initial['date'] == 'Earnings before Tax'].iloc[0][1]# Earnings before Taz\n",
    "IncTax = income_initial[income_initial['date'] == 'Income Tax Expense'].iloc[0][1]*-1# Income Tax Expense\n",
    "NetInc = income_initial[income_initial['date'] == 'Net Income'].iloc[0][1]# Net Income\n"
   ]
  },
  {
   "cell_type": "code",
   "execution_count": 19,
   "metadata": {},
   "outputs": [
    {
     "data": {
      "application/vnd.plotly.v1+json": {
       "config": {
        "plotlyServerURL": "https://plot.ly"
       },
       "data": [
        {
         "connector": {
          "line": {
           "color": "rgb(63, 63, 63)"
          }
         },
         "decreasing": {
          "marker": {
           "color": "red"
          }
         },
         "increasing": {
          "marker": {
           "color": "green"
          }
         },
         "measure": [
          "relative",
          "relative",
          "total",
          "relative",
          "relative",
          "total",
          "relative",
          "total",
          "relative",
          "total"
         ],
         "name": "20",
         "orientation": "v",
         "text": [
          "41159.0",
          "-18982.0",
          "22177.0",
          "-6820.0",
          "-7380.0",
          "-14200.0",
          "-21.0",
          "7757.0",
          "-921.0",
          "6836.0"
         ],
         "textposition": "outside",
         "totals": {
          "marker": {
           "color": "blue"
          }
         },
         "type": "waterfall",
         "x": [
          "Revenue",
          "CoGS",
          "Gross Profit",
          "R&D",
          "SG&A",
          "Operating Expenses",
          "Interest Expense",
          "Earnings before Tax",
          "Income Tax Expense",
          "Net Income"
         ],
         "y": [
          41159000000,
          -18982000000,
          22177000000,
          -6820000000,
          -7380000000,
          -14200000000,
          -21000000,
          7757000000,
          -921000000,
          6836000000
         ]
        }
       ],
       "layout": {
        "showlegend": true,
        "template": {
         "data": {
          "bar": [
           {
            "error_x": {
             "color": "#2a3f5f"
            },
            "error_y": {
             "color": "#2a3f5f"
            },
            "marker": {
             "line": {
              "color": "#E5ECF6",
              "width": 0.5
             }
            },
            "type": "bar"
           }
          ],
          "barpolar": [
           {
            "marker": {
             "line": {
              "color": "#E5ECF6",
              "width": 0.5
             }
            },
            "type": "barpolar"
           }
          ],
          "carpet": [
           {
            "aaxis": {
             "endlinecolor": "#2a3f5f",
             "gridcolor": "white",
             "linecolor": "white",
             "minorgridcolor": "white",
             "startlinecolor": "#2a3f5f"
            },
            "baxis": {
             "endlinecolor": "#2a3f5f",
             "gridcolor": "white",
             "linecolor": "white",
             "minorgridcolor": "white",
             "startlinecolor": "#2a3f5f"
            },
            "type": "carpet"
           }
          ],
          "choropleth": [
           {
            "colorbar": {
             "outlinewidth": 0,
             "ticks": ""
            },
            "type": "choropleth"
           }
          ],
          "contour": [
           {
            "colorbar": {
             "outlinewidth": 0,
             "ticks": ""
            },
            "colorscale": [
             [
              0,
              "#0d0887"
             ],
             [
              0.1111111111111111,
              "#46039f"
             ],
             [
              0.2222222222222222,
              "#7201a8"
             ],
             [
              0.3333333333333333,
              "#9c179e"
             ],
             [
              0.4444444444444444,
              "#bd3786"
             ],
             [
              0.5555555555555556,
              "#d8576b"
             ],
             [
              0.6666666666666666,
              "#ed7953"
             ],
             [
              0.7777777777777778,
              "#fb9f3a"
             ],
             [
              0.8888888888888888,
              "#fdca26"
             ],
             [
              1,
              "#f0f921"
             ]
            ],
            "type": "contour"
           }
          ],
          "contourcarpet": [
           {
            "colorbar": {
             "outlinewidth": 0,
             "ticks": ""
            },
            "type": "contourcarpet"
           }
          ],
          "heatmap": [
           {
            "colorbar": {
             "outlinewidth": 0,
             "ticks": ""
            },
            "colorscale": [
             [
              0,
              "#0d0887"
             ],
             [
              0.1111111111111111,
              "#46039f"
             ],
             [
              0.2222222222222222,
              "#7201a8"
             ],
             [
              0.3333333333333333,
              "#9c179e"
             ],
             [
              0.4444444444444444,
              "#bd3786"
             ],
             [
              0.5555555555555556,
              "#d8576b"
             ],
             [
              0.6666666666666666,
              "#ed7953"
             ],
             [
              0.7777777777777778,
              "#fb9f3a"
             ],
             [
              0.8888888888888888,
              "#fdca26"
             ],
             [
              1,
              "#f0f921"
             ]
            ],
            "type": "heatmap"
           }
          ],
          "heatmapgl": [
           {
            "colorbar": {
             "outlinewidth": 0,
             "ticks": ""
            },
            "colorscale": [
             [
              0,
              "#0d0887"
             ],
             [
              0.1111111111111111,
              "#46039f"
             ],
             [
              0.2222222222222222,
              "#7201a8"
             ],
             [
              0.3333333333333333,
              "#9c179e"
             ],
             [
              0.4444444444444444,
              "#bd3786"
             ],
             [
              0.5555555555555556,
              "#d8576b"
             ],
             [
              0.6666666666666666,
              "#ed7953"
             ],
             [
              0.7777777777777778,
              "#fb9f3a"
             ],
             [
              0.8888888888888888,
              "#fdca26"
             ],
             [
              1,
              "#f0f921"
             ]
            ],
            "type": "heatmapgl"
           }
          ],
          "histogram": [
           {
            "marker": {
             "colorbar": {
              "outlinewidth": 0,
              "ticks": ""
             }
            },
            "type": "histogram"
           }
          ],
          "histogram2d": [
           {
            "colorbar": {
             "outlinewidth": 0,
             "ticks": ""
            },
            "colorscale": [
             [
              0,
              "#0d0887"
             ],
             [
              0.1111111111111111,
              "#46039f"
             ],
             [
              0.2222222222222222,
              "#7201a8"
             ],
             [
              0.3333333333333333,
              "#9c179e"
             ],
             [
              0.4444444444444444,
              "#bd3786"
             ],
             [
              0.5555555555555556,
              "#d8576b"
             ],
             [
              0.6666666666666666,
              "#ed7953"
             ],
             [
              0.7777777777777778,
              "#fb9f3a"
             ],
             [
              0.8888888888888888,
              "#fdca26"
             ],
             [
              1,
              "#f0f921"
             ]
            ],
            "type": "histogram2d"
           }
          ],
          "histogram2dcontour": [
           {
            "colorbar": {
             "outlinewidth": 0,
             "ticks": ""
            },
            "colorscale": [
             [
              0,
              "#0d0887"
             ],
             [
              0.1111111111111111,
              "#46039f"
             ],
             [
              0.2222222222222222,
              "#7201a8"
             ],
             [
              0.3333333333333333,
              "#9c179e"
             ],
             [
              0.4444444444444444,
              "#bd3786"
             ],
             [
              0.5555555555555556,
              "#d8576b"
             ],
             [
              0.6666666666666666,
              "#ed7953"
             ],
             [
              0.7777777777777778,
              "#fb9f3a"
             ],
             [
              0.8888888888888888,
              "#fdca26"
             ],
             [
              1,
              "#f0f921"
             ]
            ],
            "type": "histogram2dcontour"
           }
          ],
          "mesh3d": [
           {
            "colorbar": {
             "outlinewidth": 0,
             "ticks": ""
            },
            "type": "mesh3d"
           }
          ],
          "parcoords": [
           {
            "line": {
             "colorbar": {
              "outlinewidth": 0,
              "ticks": ""
             }
            },
            "type": "parcoords"
           }
          ],
          "pie": [
           {
            "automargin": true,
            "type": "pie"
           }
          ],
          "scatter": [
           {
            "marker": {
             "colorbar": {
              "outlinewidth": 0,
              "ticks": ""
             }
            },
            "type": "scatter"
           }
          ],
          "scatter3d": [
           {
            "line": {
             "colorbar": {
              "outlinewidth": 0,
              "ticks": ""
             }
            },
            "marker": {
             "colorbar": {
              "outlinewidth": 0,
              "ticks": ""
             }
            },
            "type": "scatter3d"
           }
          ],
          "scattercarpet": [
           {
            "marker": {
             "colorbar": {
              "outlinewidth": 0,
              "ticks": ""
             }
            },
            "type": "scattercarpet"
           }
          ],
          "scattergeo": [
           {
            "marker": {
             "colorbar": {
              "outlinewidth": 0,
              "ticks": ""
             }
            },
            "type": "scattergeo"
           }
          ],
          "scattergl": [
           {
            "marker": {
             "colorbar": {
              "outlinewidth": 0,
              "ticks": ""
             }
            },
            "type": "scattergl"
           }
          ],
          "scattermapbox": [
           {
            "marker": {
             "colorbar": {
              "outlinewidth": 0,
              "ticks": ""
             }
            },
            "type": "scattermapbox"
           }
          ],
          "scatterpolar": [
           {
            "marker": {
             "colorbar": {
              "outlinewidth": 0,
              "ticks": ""
             }
            },
            "type": "scatterpolar"
           }
          ],
          "scatterpolargl": [
           {
            "marker": {
             "colorbar": {
              "outlinewidth": 0,
              "ticks": ""
             }
            },
            "type": "scatterpolargl"
           }
          ],
          "scatterternary": [
           {
            "marker": {
             "colorbar": {
              "outlinewidth": 0,
              "ticks": ""
             }
            },
            "type": "scatterternary"
           }
          ],
          "surface": [
           {
            "colorbar": {
             "outlinewidth": 0,
             "ticks": ""
            },
            "colorscale": [
             [
              0,
              "#0d0887"
             ],
             [
              0.1111111111111111,
              "#46039f"
             ],
             [
              0.2222222222222222,
              "#7201a8"
             ],
             [
              0.3333333333333333,
              "#9c179e"
             ],
             [
              0.4444444444444444,
              "#bd3786"
             ],
             [
              0.5555555555555556,
              "#d8576b"
             ],
             [
              0.6666666666666666,
              "#ed7953"
             ],
             [
              0.7777777777777778,
              "#fb9f3a"
             ],
             [
              0.8888888888888888,
              "#fdca26"
             ],
             [
              1,
              "#f0f921"
             ]
            ],
            "type": "surface"
           }
          ],
          "table": [
           {
            "cells": {
             "fill": {
              "color": "#EBF0F8"
             },
             "line": {
              "color": "white"
             }
            },
            "header": {
             "fill": {
              "color": "#C8D4E3"
             },
             "line": {
              "color": "white"
             }
            },
            "type": "table"
           }
          ]
         },
         "layout": {
          "annotationdefaults": {
           "arrowcolor": "#2a3f5f",
           "arrowhead": 0,
           "arrowwidth": 1
          },
          "coloraxis": {
           "colorbar": {
            "outlinewidth": 0,
            "ticks": ""
           }
          },
          "colorscale": {
           "diverging": [
            [
             0,
             "#8e0152"
            ],
            [
             0.1,
             "#c51b7d"
            ],
            [
             0.2,
             "#de77ae"
            ],
            [
             0.3,
             "#f1b6da"
            ],
            [
             0.4,
             "#fde0ef"
            ],
            [
             0.5,
             "#f7f7f7"
            ],
            [
             0.6,
             "#e6f5d0"
            ],
            [
             0.7,
             "#b8e186"
            ],
            [
             0.8,
             "#7fbc41"
            ],
            [
             0.9,
             "#4d9221"
            ],
            [
             1,
             "#276419"
            ]
           ],
           "sequential": [
            [
             0,
             "#0d0887"
            ],
            [
             0.1111111111111111,
             "#46039f"
            ],
            [
             0.2222222222222222,
             "#7201a8"
            ],
            [
             0.3333333333333333,
             "#9c179e"
            ],
            [
             0.4444444444444444,
             "#bd3786"
            ],
            [
             0.5555555555555556,
             "#d8576b"
            ],
            [
             0.6666666666666666,
             "#ed7953"
            ],
            [
             0.7777777777777778,
             "#fb9f3a"
            ],
            [
             0.8888888888888888,
             "#fdca26"
            ],
            [
             1,
             "#f0f921"
            ]
           ],
           "sequentialminus": [
            [
             0,
             "#0d0887"
            ],
            [
             0.1111111111111111,
             "#46039f"
            ],
            [
             0.2222222222222222,
             "#7201a8"
            ],
            [
             0.3333333333333333,
             "#9c179e"
            ],
            [
             0.4444444444444444,
             "#bd3786"
            ],
            [
             0.5555555555555556,
             "#d8576b"
            ],
            [
             0.6666666666666666,
             "#ed7953"
            ],
            [
             0.7777777777777778,
             "#fb9f3a"
            ],
            [
             0.8888888888888888,
             "#fdca26"
            ],
            [
             1,
             "#f0f921"
            ]
           ]
          },
          "colorway": [
           "#636efa",
           "#EF553B",
           "#00cc96",
           "#ab63fa",
           "#FFA15A",
           "#19d3f3",
           "#FF6692",
           "#B6E880",
           "#FF97FF",
           "#FECB52"
          ],
          "font": {
           "color": "#2a3f5f"
          },
          "geo": {
           "bgcolor": "white",
           "lakecolor": "white",
           "landcolor": "#E5ECF6",
           "showlakes": true,
           "showland": true,
           "subunitcolor": "white"
          },
          "hoverlabel": {
           "align": "left"
          },
          "hovermode": "closest",
          "mapbox": {
           "style": "light"
          },
          "paper_bgcolor": "white",
          "plot_bgcolor": "#E5ECF6",
          "polar": {
           "angularaxis": {
            "gridcolor": "white",
            "linecolor": "white",
            "ticks": ""
           },
           "bgcolor": "#E5ECF6",
           "radialaxis": {
            "gridcolor": "white",
            "linecolor": "white",
            "ticks": ""
           }
          },
          "scene": {
           "xaxis": {
            "backgroundcolor": "#E5ECF6",
            "gridcolor": "white",
            "gridwidth": 2,
            "linecolor": "white",
            "showbackground": true,
            "ticks": "",
            "zerolinecolor": "white"
           },
           "yaxis": {
            "backgroundcolor": "#E5ECF6",
            "gridcolor": "white",
            "gridwidth": 2,
            "linecolor": "white",
            "showbackground": true,
            "ticks": "",
            "zerolinecolor": "white"
           },
           "zaxis": {
            "backgroundcolor": "#E5ECF6",
            "gridcolor": "white",
            "gridwidth": 2,
            "linecolor": "white",
            "showbackground": true,
            "ticks": "",
            "zerolinecolor": "white"
           }
          },
          "shapedefaults": {
           "line": {
            "color": "#2a3f5f"
           }
          },
          "ternary": {
           "aaxis": {
            "gridcolor": "white",
            "linecolor": "white",
            "ticks": ""
           },
           "baxis": {
            "gridcolor": "white",
            "linecolor": "white",
            "ticks": ""
           },
           "bgcolor": "#E5ECF6",
           "caxis": {
            "gridcolor": "white",
            "linecolor": "white",
            "ticks": ""
           }
          },
          "title": {
           "x": 0.05
          },
          "xaxis": {
           "automargin": true,
           "gridcolor": "white",
           "linecolor": "white",
           "ticks": "",
           "title": {
            "standoff": 15
           },
           "zerolinecolor": "white",
           "zerolinewidth": 2
          },
          "yaxis": {
           "automargin": true,
           "gridcolor": "white",
           "linecolor": "white",
           "ticks": "",
           "title": {
            "standoff": 15
           },
           "zerolinecolor": "white",
           "zerolinewidth": 2
          }
         }
        },
        "title": {
         "text": "GOOGL`s Profit and loss for Last available quarter"
        }
       }
      },
      "text/html": [
       "<div>\n",
       "        \n",
       "        \n",
       "            <div id=\"4570663c-1895-4e62-8a0c-c2007e87e35b\" class=\"plotly-graph-div\" style=\"height:525px; width:100%;\"></div>\n",
       "            <script type=\"text/javascript\">\n",
       "                require([\"plotly\"], function(Plotly) {\n",
       "                    window.PLOTLYENV=window.PLOTLYENV || {};\n",
       "                    \n",
       "                if (document.getElementById(\"4570663c-1895-4e62-8a0c-c2007e87e35b\")) {\n",
       "                    Plotly.newPlot(\n",
       "                        '4570663c-1895-4e62-8a0c-c2007e87e35b',\n",
       "                        [{\"connector\": {\"line\": {\"color\": \"rgb(63, 63, 63)\"}}, \"decreasing\": {\"marker\": {\"color\": \"red\"}}, \"increasing\": {\"marker\": {\"color\": \"green\"}}, \"measure\": [\"relative\", \"relative\", \"total\", \"relative\", \"relative\", \"total\", \"relative\", \"total\", \"relative\", \"total\"], \"name\": \"20\", \"orientation\": \"v\", \"text\": [\"41159.0\", \"-18982.0\", \"22177.0\", \"-6820.0\", \"-7380.0\", \"-14200.0\", \"-21.0\", \"7757.0\", \"-921.0\", \"6836.0\"], \"textposition\": \"outside\", \"totals\": {\"marker\": {\"color\": \"blue\"}}, \"type\": \"waterfall\", \"x\": [\"Revenue\", \"CoGS\", \"Gross Profit\", \"R&D\", \"SG&A\", \"Operating Expenses\", \"Interest Expense\", \"Earnings before Tax\", \"Income Tax Expense\", \"Net Income\"], \"y\": [41159000000.0, -18982000000.0, 22177000000.0, -6820000000.0, -7380000000.0, -14200000000.0, -21000000.0, 7757000000.0, -921000000.0, 6836000000.0]}],\n",
       "                        {\"showlegend\": true, \"template\": {\"data\": {\"bar\": [{\"error_x\": {\"color\": \"#2a3f5f\"}, \"error_y\": {\"color\": \"#2a3f5f\"}, \"marker\": {\"line\": {\"color\": \"#E5ECF6\", \"width\": 0.5}}, \"type\": \"bar\"}], \"barpolar\": [{\"marker\": {\"line\": {\"color\": \"#E5ECF6\", \"width\": 0.5}}, \"type\": \"barpolar\"}], \"carpet\": [{\"aaxis\": {\"endlinecolor\": \"#2a3f5f\", \"gridcolor\": \"white\", \"linecolor\": \"white\", \"minorgridcolor\": \"white\", \"startlinecolor\": \"#2a3f5f\"}, \"baxis\": {\"endlinecolor\": \"#2a3f5f\", \"gridcolor\": \"white\", \"linecolor\": \"white\", \"minorgridcolor\": \"white\", \"startlinecolor\": \"#2a3f5f\"}, \"type\": \"carpet\"}], \"choropleth\": [{\"colorbar\": {\"outlinewidth\": 0, \"ticks\": \"\"}, \"type\": \"choropleth\"}], \"contour\": [{\"colorbar\": {\"outlinewidth\": 0, \"ticks\": \"\"}, \"colorscale\": [[0.0, \"#0d0887\"], [0.1111111111111111, \"#46039f\"], [0.2222222222222222, \"#7201a8\"], [0.3333333333333333, \"#9c179e\"], [0.4444444444444444, \"#bd3786\"], [0.5555555555555556, \"#d8576b\"], [0.6666666666666666, \"#ed7953\"], [0.7777777777777778, \"#fb9f3a\"], [0.8888888888888888, \"#fdca26\"], [1.0, \"#f0f921\"]], \"type\": \"contour\"}], \"contourcarpet\": [{\"colorbar\": {\"outlinewidth\": 0, \"ticks\": \"\"}, \"type\": \"contourcarpet\"}], \"heatmap\": [{\"colorbar\": {\"outlinewidth\": 0, \"ticks\": \"\"}, \"colorscale\": [[0.0, \"#0d0887\"], [0.1111111111111111, \"#46039f\"], [0.2222222222222222, \"#7201a8\"], [0.3333333333333333, \"#9c179e\"], [0.4444444444444444, \"#bd3786\"], [0.5555555555555556, \"#d8576b\"], [0.6666666666666666, \"#ed7953\"], [0.7777777777777778, \"#fb9f3a\"], [0.8888888888888888, \"#fdca26\"], [1.0, \"#f0f921\"]], \"type\": \"heatmap\"}], \"heatmapgl\": [{\"colorbar\": {\"outlinewidth\": 0, \"ticks\": \"\"}, \"colorscale\": [[0.0, \"#0d0887\"], [0.1111111111111111, \"#46039f\"], [0.2222222222222222, \"#7201a8\"], [0.3333333333333333, \"#9c179e\"], [0.4444444444444444, \"#bd3786\"], [0.5555555555555556, \"#d8576b\"], [0.6666666666666666, \"#ed7953\"], [0.7777777777777778, \"#fb9f3a\"], [0.8888888888888888, \"#fdca26\"], [1.0, \"#f0f921\"]], \"type\": \"heatmapgl\"}], \"histogram\": [{\"marker\": {\"colorbar\": {\"outlinewidth\": 0, \"ticks\": \"\"}}, \"type\": \"histogram\"}], \"histogram2d\": [{\"colorbar\": {\"outlinewidth\": 0, \"ticks\": \"\"}, \"colorscale\": [[0.0, \"#0d0887\"], [0.1111111111111111, \"#46039f\"], [0.2222222222222222, \"#7201a8\"], [0.3333333333333333, \"#9c179e\"], [0.4444444444444444, \"#bd3786\"], [0.5555555555555556, \"#d8576b\"], [0.6666666666666666, \"#ed7953\"], [0.7777777777777778, \"#fb9f3a\"], [0.8888888888888888, \"#fdca26\"], [1.0, \"#f0f921\"]], \"type\": \"histogram2d\"}], \"histogram2dcontour\": [{\"colorbar\": {\"outlinewidth\": 0, \"ticks\": \"\"}, \"colorscale\": [[0.0, \"#0d0887\"], [0.1111111111111111, \"#46039f\"], [0.2222222222222222, \"#7201a8\"], [0.3333333333333333, \"#9c179e\"], [0.4444444444444444, \"#bd3786\"], [0.5555555555555556, \"#d8576b\"], [0.6666666666666666, \"#ed7953\"], [0.7777777777777778, \"#fb9f3a\"], [0.8888888888888888, \"#fdca26\"], [1.0, \"#f0f921\"]], \"type\": \"histogram2dcontour\"}], \"mesh3d\": [{\"colorbar\": {\"outlinewidth\": 0, \"ticks\": \"\"}, \"type\": \"mesh3d\"}], \"parcoords\": [{\"line\": {\"colorbar\": {\"outlinewidth\": 0, \"ticks\": \"\"}}, \"type\": \"parcoords\"}], \"pie\": [{\"automargin\": true, \"type\": \"pie\"}], \"scatter\": [{\"marker\": {\"colorbar\": {\"outlinewidth\": 0, \"ticks\": \"\"}}, \"type\": \"scatter\"}], \"scatter3d\": [{\"line\": {\"colorbar\": {\"outlinewidth\": 0, \"ticks\": \"\"}}, \"marker\": {\"colorbar\": {\"outlinewidth\": 0, \"ticks\": \"\"}}, \"type\": \"scatter3d\"}], \"scattercarpet\": [{\"marker\": {\"colorbar\": {\"outlinewidth\": 0, \"ticks\": \"\"}}, \"type\": \"scattercarpet\"}], \"scattergeo\": [{\"marker\": {\"colorbar\": {\"outlinewidth\": 0, \"ticks\": \"\"}}, \"type\": \"scattergeo\"}], \"scattergl\": [{\"marker\": {\"colorbar\": {\"outlinewidth\": 0, \"ticks\": \"\"}}, \"type\": \"scattergl\"}], \"scattermapbox\": [{\"marker\": {\"colorbar\": {\"outlinewidth\": 0, \"ticks\": \"\"}}, \"type\": \"scattermapbox\"}], \"scatterpolar\": [{\"marker\": {\"colorbar\": {\"outlinewidth\": 0, \"ticks\": \"\"}}, \"type\": \"scatterpolar\"}], \"scatterpolargl\": [{\"marker\": {\"colorbar\": {\"outlinewidth\": 0, \"ticks\": \"\"}}, \"type\": \"scatterpolargl\"}], \"scatterternary\": [{\"marker\": {\"colorbar\": {\"outlinewidth\": 0, \"ticks\": \"\"}}, \"type\": \"scatterternary\"}], \"surface\": [{\"colorbar\": {\"outlinewidth\": 0, \"ticks\": \"\"}, \"colorscale\": [[0.0, \"#0d0887\"], [0.1111111111111111, \"#46039f\"], [0.2222222222222222, \"#7201a8\"], [0.3333333333333333, \"#9c179e\"], [0.4444444444444444, \"#bd3786\"], [0.5555555555555556, \"#d8576b\"], [0.6666666666666666, \"#ed7953\"], [0.7777777777777778, \"#fb9f3a\"], [0.8888888888888888, \"#fdca26\"], [1.0, \"#f0f921\"]], \"type\": \"surface\"}], \"table\": [{\"cells\": {\"fill\": {\"color\": \"#EBF0F8\"}, \"line\": {\"color\": \"white\"}}, \"header\": {\"fill\": {\"color\": \"#C8D4E3\"}, \"line\": {\"color\": \"white\"}}, \"type\": \"table\"}]}, \"layout\": {\"annotationdefaults\": {\"arrowcolor\": \"#2a3f5f\", \"arrowhead\": 0, \"arrowwidth\": 1}, \"coloraxis\": {\"colorbar\": {\"outlinewidth\": 0, \"ticks\": \"\"}}, \"colorscale\": {\"diverging\": [[0, \"#8e0152\"], [0.1, \"#c51b7d\"], [0.2, \"#de77ae\"], [0.3, \"#f1b6da\"], [0.4, \"#fde0ef\"], [0.5, \"#f7f7f7\"], [0.6, \"#e6f5d0\"], [0.7, \"#b8e186\"], [0.8, \"#7fbc41\"], [0.9, \"#4d9221\"], [1, \"#276419\"]], \"sequential\": [[0.0, \"#0d0887\"], [0.1111111111111111, \"#46039f\"], [0.2222222222222222, \"#7201a8\"], [0.3333333333333333, \"#9c179e\"], [0.4444444444444444, \"#bd3786\"], [0.5555555555555556, \"#d8576b\"], [0.6666666666666666, \"#ed7953\"], [0.7777777777777778, \"#fb9f3a\"], [0.8888888888888888, \"#fdca26\"], [1.0, \"#f0f921\"]], \"sequentialminus\": [[0.0, \"#0d0887\"], [0.1111111111111111, \"#46039f\"], [0.2222222222222222, \"#7201a8\"], [0.3333333333333333, \"#9c179e\"], [0.4444444444444444, \"#bd3786\"], [0.5555555555555556, \"#d8576b\"], [0.6666666666666666, \"#ed7953\"], [0.7777777777777778, \"#fb9f3a\"], [0.8888888888888888, \"#fdca26\"], [1.0, \"#f0f921\"]]}, \"colorway\": [\"#636efa\", \"#EF553B\", \"#00cc96\", \"#ab63fa\", \"#FFA15A\", \"#19d3f3\", \"#FF6692\", \"#B6E880\", \"#FF97FF\", \"#FECB52\"], \"font\": {\"color\": \"#2a3f5f\"}, \"geo\": {\"bgcolor\": \"white\", \"lakecolor\": \"white\", \"landcolor\": \"#E5ECF6\", \"showlakes\": true, \"showland\": true, \"subunitcolor\": \"white\"}, \"hoverlabel\": {\"align\": \"left\"}, \"hovermode\": \"closest\", \"mapbox\": {\"style\": \"light\"}, \"paper_bgcolor\": \"white\", \"plot_bgcolor\": \"#E5ECF6\", \"polar\": {\"angularaxis\": {\"gridcolor\": \"white\", \"linecolor\": \"white\", \"ticks\": \"\"}, \"bgcolor\": \"#E5ECF6\", \"radialaxis\": {\"gridcolor\": \"white\", \"linecolor\": \"white\", \"ticks\": \"\"}}, \"scene\": {\"xaxis\": {\"backgroundcolor\": \"#E5ECF6\", \"gridcolor\": \"white\", \"gridwidth\": 2, \"linecolor\": \"white\", \"showbackground\": true, \"ticks\": \"\", \"zerolinecolor\": \"white\"}, \"yaxis\": {\"backgroundcolor\": \"#E5ECF6\", \"gridcolor\": \"white\", \"gridwidth\": 2, \"linecolor\": \"white\", \"showbackground\": true, \"ticks\": \"\", \"zerolinecolor\": \"white\"}, \"zaxis\": {\"backgroundcolor\": \"#E5ECF6\", \"gridcolor\": \"white\", \"gridwidth\": 2, \"linecolor\": \"white\", \"showbackground\": true, \"ticks\": \"\", \"zerolinecolor\": \"white\"}}, \"shapedefaults\": {\"line\": {\"color\": \"#2a3f5f\"}}, \"ternary\": {\"aaxis\": {\"gridcolor\": \"white\", \"linecolor\": \"white\", \"ticks\": \"\"}, \"baxis\": {\"gridcolor\": \"white\", \"linecolor\": \"white\", \"ticks\": \"\"}, \"bgcolor\": \"#E5ECF6\", \"caxis\": {\"gridcolor\": \"white\", \"linecolor\": \"white\", \"ticks\": \"\"}}, \"title\": {\"x\": 0.05}, \"xaxis\": {\"automargin\": true, \"gridcolor\": \"white\", \"linecolor\": \"white\", \"ticks\": \"\", \"title\": {\"standoff\": 15}, \"zerolinecolor\": \"white\", \"zerolinewidth\": 2}, \"yaxis\": {\"automargin\": true, \"gridcolor\": \"white\", \"linecolor\": \"white\", \"ticks\": \"\", \"title\": {\"standoff\": 15}, \"zerolinecolor\": \"white\", \"zerolinewidth\": 2}}}, \"title\": {\"text\": \"GOOGL`s Profit and loss for Last available quarter\"}},\n",
       "                        {\"responsive\": true}\n",
       "                    ).then(function(){\n",
       "                            \n",
       "var gd = document.getElementById('4570663c-1895-4e62-8a0c-c2007e87e35b');\n",
       "var x = new MutationObserver(function (mutations, observer) {{\n",
       "        var display = window.getComputedStyle(gd).display;\n",
       "        if (!display || display === 'none') {{\n",
       "            console.log([gd, 'removed!']);\n",
       "            Plotly.purge(gd);\n",
       "            observer.disconnect();\n",
       "        }}\n",
       "}});\n",
       "\n",
       "// Listen for the removal of the full notebook cells\n",
       "var notebookContainer = gd.closest('#notebook-container');\n",
       "if (notebookContainer) {{\n",
       "    x.observe(notebookContainer, {childList: true});\n",
       "}}\n",
       "\n",
       "// Listen for the clearing of the current output cell\n",
       "var outputEl = gd.closest('.output');\n",
       "if (outputEl) {{\n",
       "    x.observe(outputEl, {childList: true});\n",
       "}}\n",
       "\n",
       "                        })\n",
       "                };\n",
       "                });\n",
       "            </script>\n",
       "        </div>"
      ]
     },
     "metadata": {},
     "output_type": "display_data"
    }
   ],
   "source": [
    "# Visualize\n",
    "fig = go.Figure(go.Waterfall(\n",
    "    name = \"20\", orientation = \"v\",\n",
    "    measure = [\"relative\", \"relative\", \"total\", \"relative\", \"relative\", \"total\",\"relative\", \"total\",\"relative\", \"total\"],\n",
    "    x = ['Revenue', 'CoGS', \"Gross Profit\", \"R&D\", \"SG&A\", \"Operating Expenses\",\"Interest Expense\",\"Earnings before Tax\",\"Income Tax Expense\",\"Net Income\"],\n",
    "    textposition = \"outside\",\n",
    "    text = [Rev/1000000, CoGS/1000000, GrossProf/1000000, RD/1000000, GA/1000000, OperExp/1000000, Int/1000000, EBT/1000000, IncTax/1000000, NetInc/1000000],\n",
    "    y = [Rev, CoGS, GrossProf, RD, GA, OperExp, Int, EBT, IncTax, NetInc],\n",
    "    connector = {\"line\":{\"color\":\"rgb(63, 63, 63)\"}},\n",
    "    increasing = {'marker':{'color':'green'}},\n",
    "    decreasing = {'marker':{'color':'red'}},\n",
    "    totals = {'marker':{'color':'blue'}},\n",
    "))\n",
    "\n",
    "fig.update_layout(\n",
    "        title = f\"{company}`s Profit and loss for Last available quarter\",\n",
    "        showlegend = True\n",
    ")\n",
    "\n",
    "fig.show()"
   ]
  },
  {
   "cell_type": "code",
   "execution_count": null,
   "metadata": {},
   "outputs": [],
   "source": []
  },
  {
   "cell_type": "code",
   "execution_count": null,
   "metadata": {},
   "outputs": [],
   "source": []
  }
 ],
 "metadata": {
  "kernelspec": {
   "display_name": "Python 3",
   "language": "python",
   "name": "python3"
  },
  "language_info": {
   "codemirror_mode": {
    "name": "ipython",
    "version": 3
   },
   "file_extension": ".py",
   "mimetype": "text/x-python",
   "name": "python",
   "nbconvert_exporter": "python",
   "pygments_lexer": "ipython3",
   "version": "3.6.6"
  }
 },
 "nbformat": 4,
 "nbformat_minor": 2
}
