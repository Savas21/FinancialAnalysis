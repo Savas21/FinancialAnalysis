{
 "cells": [
  {
   "cell_type": "markdown",
   "metadata": {},
   "source": [
    "# Present Value"
   ]
  },
  {
   "cell_type": "code",
   "execution_count": 43,
   "metadata": {},
   "outputs": [],
   "source": [
    "import matplotlib.pyplot as plt\n",
    "import numpy as np\n",
    "import pandas as pd\n",
    "%matplotlib inline"
   ]
  },
  {
   "cell_type": "markdown",
   "metadata": {},
   "source": [
    "-Present value calc assumes you will be able to invest at some rate of return\n",
    "\n",
    "\n",
    "-Even if you keep your money buried in the backyard it is slowly losing value due to inflation\n"
   ]
  },
  {
   "cell_type": "code",
   "execution_count": 44,
   "metadata": {},
   "outputs": [
    {
     "name": "stdout",
     "output_type": "stream",
     "text": [
      "47619.05\n"
     ]
    }
   ],
   "source": [
    "# Future value(FV), Interest Rate(r), Time(t) ,Present Value(PV)\n",
    "FV = 50000\n",
    "r = 0.05\n",
    "T = 1\n",
    "PV = FV / (1+ r) ** T\n",
    "print(round(PV,2))"
   ]
  },
  {
   "cell_type": "code",
   "execution_count": 45,
   "metadata": {},
   "outputs": [],
   "source": [
    "# evaluate pv with custom func\n",
    "def pv(FV, r, T):\n",
    "    return round(FV / (1+ r) ** T, 2)"
   ]
  },
  {
   "cell_type": "code",
   "execution_count": 46,
   "metadata": {},
   "outputs": [
    {
     "data": {
      "text/plain": [
       "39176.31"
      ]
     },
     "execution_count": 46,
     "metadata": {},
     "output_type": "execute_result"
    }
   ],
   "source": [
    "T = 5\n",
    "pv(FV,r,T)"
   ]
  },
  {
   "cell_type": "code",
   "execution_count": 47,
   "metadata": {},
   "outputs": [
    {
     "data": {
      "text/plain": [
       "array([50000., 50000., 50000., 50000., 50000., 50000., 50000., 50000.,\n",
       "       50000., 50000., 50000., 50000., 50000., 50000., 50000., 50000.,\n",
       "       50000., 50000., 50000., 50000.])"
      ]
     },
     "execution_count": 47,
     "metadata": {},
     "output_type": "execute_result"
    }
   ],
   "source": [
    "# Won the lottery! Pay back to you in 20 years $1_000_000\n",
    "prize = 1000000\n",
    "time_frame = 20 \n",
    "each_month_pay = prize/time_frame\n",
    "\n",
    "cashflows = np.ones(time_frame)*each_month_pay\n",
    "cashflows"
   ]
  },
  {
   "cell_type": "code",
   "execution_count": 48,
   "metadata": {},
   "outputs": [
    {
     "data": {
      "text/plain": [
       "20"
      ]
     },
     "execution_count": 48,
     "metadata": {},
     "output_type": "execute_result"
    }
   ],
   "source": [
    "cashflows.size"
   ]
  },
  {
   "cell_type": "code",
   "execution_count": 50,
   "metadata": {},
   "outputs": [
    {
     "name": "stdout",
     "output_type": "stream",
     "text": [
      "[50000.   45351.48 41135.12 37310.77 33841.97 30695.66 27841.87 25253.4\n",
      " 22905.58 20776.04 18844.47 17092.49 15503.4  14062.04 12754.68 11568.87\n",
      " 10493.31  9517.74  8632.87  7830.27]\n"
     ]
    }
   ],
   "source": [
    "x = cashflows.size\n",
    "\n",
    "for year in range(x):\n",
    "    cashflows[year] = round(cashflows[year] / (1+r) ** year,2)\n",
    "print(cashflows)"
   ]
  },
  {
   "cell_type": "code",
   "execution_count": 56,
   "metadata": {},
   "outputs": [
    {
     "data": {
      "text/plain": [
       "([<matplotlib.axis.XTick at 0x11a52f9e8>,\n",
       "  <matplotlib.axis.XTick at 0x11a52fa90>,\n",
       "  <matplotlib.axis.XTick at 0x1199edda0>,\n",
       "  <matplotlib.axis.XTick at 0x119721278>,\n",
       "  <matplotlib.axis.XTick at 0x1197301d0>],\n",
       " <a list of 5 Text xticklabel objects>)"
      ]
     },
     "execution_count": 56,
     "metadata": {},
     "output_type": "execute_result"
    },
    {
     "data": {
      "image/png": "[encoded data removed]",
      "text/plain": [
       "<matplotlib.figure.Figure at 0x11926beb8>"
      ]
     },
     "metadata": {},
     "output_type": "display_data"
    }
   ],
   "source": [
    "plt.plot(cashflows)\n",
    "plt.grid(ls = '--')\n",
    "plt.xticks([0,5,10,15,20])"
   ]
  },
  {
   "cell_type": "code",
   "execution_count": 57,
   "metadata": {},
   "outputs": [
    {
     "data": {
      "text/plain": [
       "461412.02999999997"
      ]
     },
     "execution_count": 57,
     "metadata": {},
     "output_type": "execute_result"
    }
   ],
   "source": [
    "sum(cashflows)"
   ]
  },
  {
   "cell_type": "code",
   "execution_count": null,
   "metadata": {},
   "outputs": [],
   "source": []
  }
 ],
 "metadata": {
  "kernelspec": {
   "display_name": "Python 3",
   "language": "python",
   "name": "python3"
  },
  "language_info": {
   "codemirror_mode": {
    "name": "ipython",
    "version": 3
   },
   "file_extension": ".py",
   "mimetype": "text/x-python",
   "name": "python",
   "nbconvert_exporter": "python",
   "pygments_lexer": "ipython3",
   "version": "3.6.6"
  }
 },
 "nbformat": 4,
 "nbformat_minor": 2
}
