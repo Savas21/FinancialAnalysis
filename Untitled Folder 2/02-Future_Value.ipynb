{
 "cells": [
  {
   "cell_type": "markdown",
   "metadata": {},
   "source": [
    "# Future Value"
   ]
  },
  {
   "cell_type": "code",
   "execution_count": 100,
   "metadata": {},
   "outputs": [],
   "source": [
    "import matplotlib.pyplot as plt\n",
    "import numpy as np\n",
    "import pandas as pd\n",
    "%matplotlib inline"
   ]
  },
  {
   "cell_type": "code",
   "execution_count": 101,
   "metadata": {},
   "outputs": [
    {
     "name": "stdout",
     "output_type": "stream",
     "text": [
      "52500.0\n"
     ]
    }
   ],
   "source": [
    "# Future value(FV), Interest Rate(r), Time(t) ,Present Value(PV)\n",
    "PV = 50000\n",
    "r = 0.05\n",
    "T = 1\n",
    "FV = PV * (1+ r) ** T\n",
    "print(round(FV,2))"
   ]
  },
  {
   "cell_type": "code",
   "execution_count": 31,
   "metadata": {},
   "outputs": [],
   "source": [
    "# evaluate pv with custom func\n",
    "def fv(PV, r, T):\n",
    "    return round(PV * (1+ r) ** T, 2)"
   ]
  },
  {
   "cell_type": "code",
   "execution_count": 32,
   "metadata": {},
   "outputs": [
    {
     "data": {
      "text/plain": [
       "63814.08"
      ]
     },
     "execution_count": 32,
     "metadata": {},
     "output_type": "execute_result"
    }
   ],
   "source": [
    "T = 5\n",
    "fv(PV,r,T)"
   ]
  },
  {
   "cell_type": "code",
   "execution_count": 33,
   "metadata": {},
   "outputs": [],
   "source": [
    "# adding currency symbol to fuctıon\n",
    "def fv(PV, r, T):\n",
    "    return \"${:,.2f}\".format(PV * (1+ r) ** T, 2)"
   ]
  },
  {
   "cell_type": "code",
   "execution_count": 34,
   "metadata": {},
   "outputs": [
    {
     "data": {
      "text/plain": [
       "'$63,814.08'"
      ]
     },
     "execution_count": 34,
     "metadata": {},
     "output_type": "execute_result"
    }
   ],
   "source": [
    "T = 5\n",
    "fv(PV,r,T)"
   ]
  },
  {
   "cell_type": "code",
   "execution_count": 42,
   "metadata": {},
   "outputs": [],
   "source": [
    "# ending balance in 20 years\n",
    "ending_balance = np.ones(20)*50000 \n",
    "\n",
    "for time in range(1,len(ending_balance)):\n",
    "    ending_balance[time] = round(ending_balance[time] * (1+r)**time,2)\n",
    "    "
   ]
  },
  {
   "cell_type": "code",
   "execution_count": 43,
   "metadata": {},
   "outputs": [
    {
     "data": {
      "text/plain": [
       "array([ 50000.  ,  52500.  ,  55125.  ,  57881.25,  60775.31,  63814.08,\n",
       "        67004.78,  70355.02,  73872.77,  77566.41,  81444.73,  85516.97,\n",
       "        89792.82,  94282.46,  98996.58, 103946.41, 109143.73, 114600.92,\n",
       "       120330.96, 126347.51])"
      ]
     },
     "execution_count": 43,
     "metadata": {},
     "output_type": "execute_result"
    }
   ],
   "source": [
    "ending_balance"
   ]
  },
  {
   "cell_type": "code",
   "execution_count": 44,
   "metadata": {},
   "outputs": [
    {
     "data": {
      "text/plain": [
       "([<matplotlib.axis.XTick at 0x1078c1a58>,\n",
       "  <matplotlib.axis.XTick at 0x113535ef0>,\n",
       "  <matplotlib.axis.XTick at 0x113d526a0>,\n",
       "  <matplotlib.axis.XTick at 0x113905908>,\n",
       "  <matplotlib.axis.XTick at 0x113905f60>],\n",
       " <a list of 5 Text xticklabel objects>)"
      ]
     },
     "execution_count": 44,
     "metadata": {},
     "output_type": "execute_result"
    },
    {
     "data": {
      "image/png": "[encoded data removed]",
      "text/plain": [
       "<matplotlib.figure.Figure at 0x113cc77b8>"
      ]
     },
     "metadata": {},
     "output_type": "display_data"
    }
   ],
   "source": [
    "plt.plot(ending_balance)\n",
    "plt.title(\"Ending Balance Over Time\")\n",
    "plt.grid(ls=\"--\")\n",
    "plt.xticks([0,5,10,15,20])"
   ]
  },
  {
   "cell_type": "code",
   "execution_count": null,
   "metadata": {},
   "outputs": [],
   "source": []
  },
  {
   "cell_type": "code",
   "execution_count": 54,
   "metadata": {},
   "outputs": [
    {
     "data": {
      "text/plain": [
       "0.042531344891278015"
      ]
     },
     "execution_count": 54,
     "metadata": {},
     "output_type": "execute_result"
    }
   ],
   "source": [
    "np.random.normal(.095,.185)"
   ]
  },
  {
   "cell_type": "code",
   "execution_count": 99,
   "metadata": {},
   "outputs": [
    {
     "name": "stdout",
     "output_type": "stream",
     "text": [
      "-0.10174211052013765\n",
      "0.05572913834390516\n",
      "0.12453892756109512\n",
      "0.08004174686455764\n",
      "-0.0730498083831147\n",
      "-0.14632029772446284\n",
      "0.22980163481582336\n",
      "-0.12463937504740638\n",
      "-0.06143677059238414\n",
      "0.031121018081650284\n",
      "0.16653205444191804\n",
      "0.14619472406823397\n",
      "0.15988503603415938\n",
      "0.07432303635596914\n",
      "0.2664954833642893\n",
      "-0.02154559012584116\n",
      "-0.072099550753259\n",
      "-0.138303886924066\n",
      "0.13662251554725174\n",
      "0.2912962962551317\n"
     ]
    },
    {
     "data": {
      "text/plain": [
       "array([ 50000.,  52786.,  59360.,  64111.,  59428.,  50732.,  62390.,\n",
       "        54614.,  51259.,  52854.,  61656.,  70670.,  81969.,  88061.,\n",
       "       111529., 109126., 101258.,  87254.,  99175., 128064.])"
      ]
     },
     "execution_count": 99,
     "metadata": {},
     "output_type": "execute_result"
    }
   ],
   "source": [
    "ending_balance = np.ones(20)*50000\n",
    "\n",
    "for T in range(len(ending_balance)):\n",
    "    r = np.random.normal(.095, .185)\n",
    "    print(r)\n",
    "    if T > 0:\n",
    "        ending_balance[T] = round(ending_balance[T-1]*(1+r))\n",
    "        \n",
    "    else:\n",
    "        ending_balance[T] = ending_balance[T]\n",
    "    \n",
    "ending_balance\n",
    "               "
   ]
  },
  {
   "cell_type": "code",
   "execution_count": 97,
   "metadata": {},
   "outputs": [
    {
     "data": {
      "text/plain": [
       "([<matplotlib.axis.XTick at 0x1164da978>,\n",
       "  <matplotlib.axis.XTick at 0x1139c59e8>,\n",
       "  <matplotlib.axis.XTick at 0x116468550>,\n",
       "  <matplotlib.axis.XTick at 0x1162685f8>,\n",
       "  <matplotlib.axis.XTick at 0x116268c50>],\n",
       " <a list of 5 Text xticklabel objects>)"
      ]
     },
     "execution_count": 97,
     "metadata": {},
     "output_type": "execute_result"
    },
    {
     "data": {
      "image/png": "[encoded data removed]",
      "text/plain": [
       "<matplotlib.figure.Figure at 0x113e61ac8>"
      ]
     },
     "metadata": {},
     "output_type": "display_data"
    }
   ],
   "source": [
    "plt.plot(ending_balance)\n",
    "plt.title(\"Ending Balance Over Time\")\n",
    "plt.grid(ls=\"--\")\n",
    "plt.xticks([0,5,10,15,20])\n"
   ]
  },
  {
   "cell_type": "code",
   "execution_count": 98,
   "metadata": {},
   "outputs": [
    {
     "name": "stderr",
     "output_type": "stream",
     "text": [
      "/anaconda3/lib/python3.6/site-packages/ipykernel_launcher.py:5: DeprecationWarning: numpy.fv is deprecated and will be removed from NumPy 1.20. Use numpy_financial.fv instead (https://pypi.org/project/numpy-financial/).\n",
      "  \"\"\"\n"
     ]
    },
    {
     "data": {
      "text/plain": [
       "53025.0"
      ]
     },
     "execution_count": 98,
     "metadata": {},
     "output_type": "execute_result"
    }
   ],
   "source": [
    "# using Numpy fv function\n",
    "r = .05\n",
    "T = 1\n",
    "pv = 50000\n",
    "np.fv(r, T,-500,-pv,when=\"begin\")"
   ]
  },
  {
   "cell_type": "code",
   "execution_count": null,
   "metadata": {},
   "outputs": [],
   "source": []
  },
  {
   "cell_type": "code",
   "execution_count": null,
   "metadata": {},
   "outputs": [],
   "source": []
  }
 ],
 "metadata": {
  "kernelspec": {
   "display_name": "Python 3",
   "language": "python",
   "name": "python3"
  },
  "language_info": {
   "codemirror_mode": {
    "name": "ipython",
    "version": 3
   },
   "file_extension": ".py",
   "mimetype": "text/x-python",
   "name": "python",
   "nbconvert_exporter": "python",
   "pygments_lexer": "ipython3",
   "version": "3.6.6"
  }
 },
 "nbformat": 4,
 "nbformat_minor": 2
}
