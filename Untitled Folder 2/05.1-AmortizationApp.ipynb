{
 "cells": [
  {
   "cell_type": "code",
   "execution_count": 16,
   "metadata": {},
   "outputs": [],
   "source": [
    "import numpy as np\n",
    "import pandas as pd\n",
    "import matplotlib.pyplot as plt\n",
    "%matplotlib inline"
   ]
  },
  {
   "cell_type": "code",
   "execution_count": 17,
   "metadata": {},
   "outputs": [
    {
     "name": "stderr",
     "output_type": "stream",
     "text": [
      "/anaconda3/lib/python3.6/site-packages/ipykernel_launcher.py:4: DeprecationWarning: numpy.pmt is deprecated and will be removed from NumPy 1.20. Use numpy_financial.pmt instead (https://pypi.org/project/numpy-financial/).\n",
      "  after removing the cwd from sys.path.\n"
     ]
    },
    {
     "data": {
      "text/plain": [
       "2129.535947424394"
      ]
     },
     "execution_count": 17,
     "metadata": {},
     "output_type": "execute_result"
    }
   ],
   "source": [
    "pv = 360_000 # what\"s the loan value today\n",
    "rate = 0.05875 # interest rate that you pay annually\n",
    "term = 30# years\n",
    "pmt = np.pmt(rate / 12, term * 12, -pv) # numpy payment function\n",
    "extra_principal = 600\n",
    "pmt # monthly payment"
   ]
  },
  {
   "cell_type": "code",
   "execution_count": 24,
   "metadata": {},
   "outputs": [],
   "source": [
    "def amortize(pv,rate,term,extra_principal=0):\n",
    "    # calc monthly payment\n",
    "    pmt = np.pmt(rate / 12, term * 12, -pv)\n",
    "    # create dataframe with Zero place holders\n",
    "    amort_table = pd.DataFrame({'Balance': np.zeros(term * 12 + 1), \n",
    "                            'Interest': np.zeros(term * 12 + 1),\n",
    "                            'Principal': np.zeros(term * 12 + 1),\n",
    "                            'Cum_Int' : np.zeros(term * 12 + 1)})\n",
    "    \n",
    "    # initialize present value as current balance\n",
    "    amort_table['Balance'][0] = pv\n",
    "    # Calc monthly interest rate\n",
    "    amort_table['Interest'][0] = amort_table['Balance'][0] * rate / 12\n",
    "    amort_table['Principal'][0] = (pmt + extra_principal) - amort_table['Interest'][0]\n",
    "    amort_table['Cum_Int'] = amort_table['Interest'].cumsum()\n",
    "    # Fill the table by looping \n",
    "    #print(amort_table)\n",
    "    for payment in range(1,360):\n",
    "            actual_pmt  = pmt + extra_principal # calc actual montly payment\n",
    "            # calc new balance by sub prevıous principal - from previous balance, \n",
    "            amort_table['Balance'][payment] = max(0,\n",
    "                        amort_table['Balance'][payment - 1] - amort_table['Principal'][payment - 1])\n",
    "            amort_table['Interest'][payment] = rate / 12 * amort_table['Balance'][payment]\n",
    "            amort_table['Principal'][payment] = actual_pmt - amort_table['Interest'][payment]\n",
    "            if amort_table['Balance'][payment] < actual_pmt :\n",
    "                amort_table['Principal'][payment] = amort_table['Balance'][payment]\n",
    "                break\n",
    "    amort_table = amort_table[amort_table['Balance'] != 0]\n",
    "    amort_table['Cum_Int'] = amort_table['Interest'].cumsum()\n",
    "    amort_table = round(amort_table,2)\n",
    "    summary = pd.Series({\n",
    "        'Interest': rate,\n",
    "        'Payment' : round(pmt,2),\n",
    "        'Extra Principal' : extra_principal,\n",
    "        'Total interest' : amort_table['Cum_Int'].max(),\n",
    "        'Periods' : amort_table.index[-1] + 1\n",
    "    })    \n",
    "    \n",
    "    return amort_table, summary"
   ]
  },
  {
   "cell_type": "code",
   "execution_count": 25,
   "metadata": {},
   "outputs": [
    {
     "name": "stderr",
     "output_type": "stream",
     "text": [
      "/anaconda3/lib/python3.6/site-packages/ipykernel_launcher.py:3: DeprecationWarning: numpy.pmt is deprecated and will be removed from NumPy 1.20. Use numpy_financial.pmt instead (https://pypi.org/project/numpy-financial/).\n",
      "  This is separate from the ipykernel package so we can avoid doing imports until\n"
     ]
    }
   ],
   "source": [
    "amort_table, summary = amortize(pv,rate,term,extra_principal=0)"
   ]
  },
  {
   "cell_type": "code",
   "execution_count": 26,
   "metadata": {},
   "outputs": [
    {
     "data": {
      "text/html": [
       "<div>\n",
       "<style scoped>\n",
       "    .dataframe tbody tr th:only-of-type {\n",
       "        vertical-align: middle;\n",
       "    }\n",
       "\n",
       "    .dataframe tbody tr th {\n",
       "        vertical-align: top;\n",
       "    }\n",
       "\n",
       "    .dataframe thead th {\n",
       "        text-align: right;\n",
       "    }\n",
       "</style>\n",
       "<table border=\"1\" class=\"dataframe\">\n",
       "  <thead>\n",
       "    <tr style=\"text-align: right;\">\n",
       "      <th></th>\n",
       "      <th>Balance</th>\n",
       "      <th>Interest</th>\n",
       "      <th>Principal</th>\n",
       "      <th>Cum_Int</th>\n",
       "    </tr>\n",
       "  </thead>\n",
       "  <tbody>\n",
       "    <tr>\n",
       "      <th>355</th>\n",
       "      <td>10493.06</td>\n",
       "      <td>51.37</td>\n",
       "      <td>2078.16</td>\n",
       "      <td>406529.69</td>\n",
       "    </tr>\n",
       "    <tr>\n",
       "      <th>356</th>\n",
       "      <td>8414.90</td>\n",
       "      <td>41.20</td>\n",
       "      <td>2088.34</td>\n",
       "      <td>406570.89</td>\n",
       "    </tr>\n",
       "    <tr>\n",
       "      <th>357</th>\n",
       "      <td>6326.56</td>\n",
       "      <td>30.97</td>\n",
       "      <td>2098.56</td>\n",
       "      <td>406601.87</td>\n",
       "    </tr>\n",
       "    <tr>\n",
       "      <th>358</th>\n",
       "      <td>4228.00</td>\n",
       "      <td>20.70</td>\n",
       "      <td>2108.84</td>\n",
       "      <td>406622.57</td>\n",
       "    </tr>\n",
       "    <tr>\n",
       "      <th>359</th>\n",
       "      <td>2119.16</td>\n",
       "      <td>10.38</td>\n",
       "      <td>2119.16</td>\n",
       "      <td>406632.94</td>\n",
       "    </tr>\n",
       "  </tbody>\n",
       "</table>\n",
       "</div>"
      ],
      "text/plain": [
       "      Balance  Interest  Principal    Cum_Int\n",
       "355  10493.06     51.37    2078.16  406529.69\n",
       "356   8414.90     41.20    2088.34  406570.89\n",
       "357   6326.56     30.97    2098.56  406601.87\n",
       "358   4228.00     20.70    2108.84  406622.57\n",
       "359   2119.16     10.38    2119.16  406632.94"
      ]
     },
     "execution_count": 26,
     "metadata": {},
     "output_type": "execute_result"
    }
   ],
   "source": [
    "amort_table.tail()"
   ]
  },
  {
   "cell_type": "code",
   "execution_count": 27,
   "metadata": {},
   "outputs": [
    {
     "data": {
      "text/plain": [
       "Interest                0.05875\n",
       "Payment              2129.54000\n",
       "Extra Principal         0.00000\n",
       "Total interest     406632.94000\n",
       "Periods               360.00000\n",
       "dtype: float64"
      ]
     },
     "execution_count": 27,
     "metadata": {},
     "output_type": "execute_result"
    }
   ],
   "source": [
    "summary"
   ]
  },
  {
   "cell_type": "code",
   "execution_count": 28,
   "metadata": {},
   "outputs": [
    {
     "name": "stderr",
     "output_type": "stream",
     "text": [
      "/anaconda3/lib/python3.6/site-packages/ipykernel_launcher.py:3: DeprecationWarning: numpy.pmt is deprecated and will be removed from NumPy 1.20. Use numpy_financial.pmt instead (https://pypi.org/project/numpy-financial/).\n",
      "  This is separate from the ipykernel package so we can avoid doing imports until\n"
     ]
    }
   ],
   "source": [
    "scenario_1, summary_1 = amortize(pv,rate,term,100)\n",
    "scenario_2, summary_2 = amortize(pv,rate,term,200)\n",
    "scenario_3, summary_3 = amortize(pv,.0475,15)\n"
   ]
  },
  {
   "cell_type": "code",
   "execution_count": 29,
   "metadata": {},
   "outputs": [
    {
     "data": {
      "text/html": [
       "<div>\n",
       "<style scoped>\n",
       "    .dataframe tbody tr th:only-of-type {\n",
       "        vertical-align: middle;\n",
       "    }\n",
       "\n",
       "    .dataframe tbody tr th {\n",
       "        vertical-align: top;\n",
       "    }\n",
       "\n",
       "    .dataframe thead th {\n",
       "        text-align: right;\n",
       "    }\n",
       "</style>\n",
       "<table border=\"1\" class=\"dataframe\">\n",
       "  <thead>\n",
       "    <tr style=\"text-align: right;\">\n",
       "      <th></th>\n",
       "      <th>Interest</th>\n",
       "      <th>Payment</th>\n",
       "      <th>Extra Principal</th>\n",
       "      <th>Total interest</th>\n",
       "      <th>Periods</th>\n",
       "    </tr>\n",
       "  </thead>\n",
       "  <tbody>\n",
       "    <tr>\n",
       "      <th>0</th>\n",
       "      <td>0.05875</td>\n",
       "      <td>2129.54</td>\n",
       "      <td>100.0</td>\n",
       "      <td>353588.06</td>\n",
       "      <td>321.0</td>\n",
       "    </tr>\n",
       "    <tr>\n",
       "      <th>1</th>\n",
       "      <td>0.05875</td>\n",
       "      <td>2129.54</td>\n",
       "      <td>200.0</td>\n",
       "      <td>313980.32</td>\n",
       "      <td>290.0</td>\n",
       "    </tr>\n",
       "    <tr>\n",
       "      <th>2</th>\n",
       "      <td>0.04750</td>\n",
       "      <td>2800.19</td>\n",
       "      <td>0.0</td>\n",
       "      <td>144035.08</td>\n",
       "      <td>180.0</td>\n",
       "    </tr>\n",
       "  </tbody>\n",
       "</table>\n",
       "</div>"
      ],
      "text/plain": [
       "   Interest  Payment  Extra Principal  Total interest  Periods\n",
       "0   0.05875  2129.54            100.0       353588.06    321.0\n",
       "1   0.05875  2129.54            200.0       313980.32    290.0\n",
       "2   0.04750  2800.19              0.0       144035.08    180.0"
      ]
     },
     "execution_count": 29,
     "metadata": {},
     "output_type": "execute_result"
    }
   ],
   "source": [
    "pd.DataFrame([summary_1,summary_2,summary_3])"
   ]
  },
  {
   "cell_type": "code",
   "execution_count": null,
   "metadata": {},
   "outputs": [],
   "source": []
  }
 ],
 "metadata": {
  "kernelspec": {
   "display_name": "Python 3",
   "language": "python",
   "name": "python3"
  },
  "language_info": {
   "codemirror_mode": {
    "name": "ipython",
    "version": 3
   },
   "file_extension": ".py",
   "mimetype": "text/x-python",
   "name": "python",
   "nbconvert_exporter": "python",
   "pygments_lexer": "ipython3",
   "version": "3.6.6"
  }
 },
 "nbformat": 4,
 "nbformat_minor": 2
}
