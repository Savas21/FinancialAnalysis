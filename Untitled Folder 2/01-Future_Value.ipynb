{
 "cells": [
  {
   "cell_type": "markdown",
   "metadata": {},
   "source": [
    "# Future Value"
   ]
  },
  {
   "cell_type": "code",
   "execution_count": 72,
   "metadata": {},
   "outputs": [],
   "source": [
    "import matplotlib.pyplot as plt\n",
    "import numpy as np\n",
    "import pandas as pd\n",
    "%matplotlib inline"
   ]
  },
  {
   "cell_type": "markdown",
   "metadata": {},
   "source": [
    "-Present value calc assumes you will be able to invest at some rate of return\n",
    "\n",
    "\n",
    "-Even if you keep your money buried in the backyard it is slowly losing value due to inflation\n"
   ]
  },
  {
   "cell_type": "code",
   "execution_count": 30,
   "metadata": {},
   "outputs": [
    {
     "name": "stdout",
     "output_type": "stream",
     "text": [
      "52500.0\n"
     ]
    }
   ],
   "source": [
    "# Future value(FV), Interest Rate(r), Time(t) ,Present Value(PV)\n",
    "PV = 50000\n",
    "r = 0.05\n",
    "T = 1\n",
    "FV = PV * (1+ r) ** T\n",
    "print(round(FV,2))"
   ]
  },
  {
   "cell_type": "code",
   "execution_count": 31,
   "metadata": {},
   "outputs": [],
   "source": [
    "# evaluate pv with custom func\n",
    "def fv(PV, r, T):\n",
    "    return round(PV * (1+ r) ** T, 2)"
   ]
  },
  {
   "cell_type": "code",
   "execution_count": 32,
   "metadata": {},
   "outputs": [
    {
     "data": {
      "text/plain": [
       "63814.08"
      ]
     },
     "execution_count": 32,
     "metadata": {},
     "output_type": "execute_result"
    }
   ],
   "source": [
    "T = 5\n",
    "fv(PV,r,T)"
   ]
  },
  {
   "cell_type": "code",
   "execution_count": 33,
   "metadata": {},
   "outputs": [],
   "source": [
    "# adding currency symbol to fuctıon\n",
    "def fv(PV, r, T):\n",
    "    return \"${:,.2f}\".format(PV * (1+ r) ** T, 2)"
   ]
  },
  {
   "cell_type": "code",
   "execution_count": 34,
   "metadata": {},
   "outputs": [
    {
     "data": {
      "text/plain": [
       "'$63,814.08'"
      ]
     },
     "execution_count": 34,
     "metadata": {},
     "output_type": "execute_result"
    }
   ],
   "source": [
    "T = 5\n",
    "fv(PV,r,T)"
   ]
  },
  {
   "cell_type": "code",
   "execution_count": 42,
   "metadata": {},
   "outputs": [],
   "source": [
    "# ending balance in 20 years\n",
    "ending_balance = np.ones(20)*50000 \n",
    "\n",
    "for time in range(1,len(ending_balance)):\n",
    "    ending_balance[time] = round(ending_balance[time] * (1+r)**time,2)\n",
    "    "
   ]
  },
  {
   "cell_type": "code",
   "execution_count": 43,
   "metadata": {},
   "outputs": [
    {
     "data": {
      "text/plain": [
       "array([ 50000.  ,  52500.  ,  55125.  ,  57881.25,  60775.31,  63814.08,\n",
       "        67004.78,  70355.02,  73872.77,  77566.41,  81444.73,  85516.97,\n",
       "        89792.82,  94282.46,  98996.58, 103946.41, 109143.73, 114600.92,\n",
       "       120330.96, 126347.51])"
      ]
     },
     "execution_count": 43,
     "metadata": {},
     "output_type": "execute_result"
    }
   ],
   "source": [
    "ending_balance"
   ]
  },
  {
   "cell_type": "code",
   "execution_count": 44,
   "metadata": {},
   "outputs": [
    {
     "data": {
      "text/plain": [
       "([<matplotlib.axis.XTick at 0x1078c1a58>,\n",
       "  <matplotlib.axis.XTick at 0x113535ef0>,\n",
       "  <matplotlib.axis.XTick at 0x113d526a0>,\n",
       "  <matplotlib.axis.XTick at 0x113905908>,\n",
       "  <matplotlib.axis.XTick at 0x113905f60>],\n",
       " <a list of 5 Text xticklabel objects>)"
      ]
     },
     "execution_count": 44,
     "metadata": {},
     "output_type": "execute_result"
    },
    {
     "data": {
      "image/png": "[encoded data removed]",
      "text/plain": [
       "<matplotlib.figure.Figure at 0x113cc77b8>"
      ]
     },
     "metadata": {},
     "output_type": "display_data"
    }
   ],
   "source": [
    "plt.plot(ending_balance)\n",
    "plt.title(\"Ending Balance Over Time\")\n",
    "plt.grid(ls=\"--\")\n",
    "plt.xticks([0,5,10,15,20])"
   ]
  },
  {
   "cell_type": "code",
   "execution_count": null,
   "metadata": {},
   "outputs": [],
   "source": []
  },
  {
   "cell_type": "code",
   "execution_count": 54,
   "metadata": {},
   "outputs": [
    {
     "data": {
      "text/plain": [
       "0.042531344891278015"
      ]
     },
     "execution_count": 54,
     "metadata": {},
     "output_type": "execute_result"
    }
   ],
   "source": [
    "np.random.normal(.095,.185)"
   ]
  },
  {
   "cell_type": "code",
   "execution_count": 94,
   "metadata": {},
   "outputs": [
    {
     "name": "stdout",
     "output_type": "stream",
     "text": [
      "50000.0\n",
      "50000.0\n",
      "62216.0\n",
      "68130.0\n",
      "78055.0\n",
      "81163.0\n",
      "123443.0\n",
      "121022.0\n",
      "141735.0\n",
      "177186.0\n",
      "162025.0\n",
      "203808.0\n",
      "182061.0\n",
      "229328.0\n",
      "196713.0\n",
      "180799.0\n",
      "188170.0\n",
      "259930.0\n",
      "356749.0\n",
      "412906.0\n"
     ]
    },
    {
     "data": {
      "text/plain": [
       "array([ 50000.,  62216.,  68130.,  78055.,  81163., 123443., 121022.,\n",
       "       141735., 177186., 162025., 203808., 182061., 229328., 196713.,\n",
       "       180799., 188170., 259930., 356749., 412906., 397710.])"
      ]
     },
     "execution_count": 94,
     "metadata": {},
     "output_type": "execute_result"
    }
   ],
   "source": [
    "ending_balance = np.ones(20)*50000\n",
    "\n",
    "for T in range(len(ending_balance)):\n",
    "    r = np.random.normal(.095, .185)\n",
    "    print(ending_balance[T-1])\n",
    "    if T > 0:\n",
    "        ending_balance[T] = round(ending_balance[T-1]*(1+r))\n",
    "        \n",
    "    else:\n",
    "        ending_balance[T] = ending_balance[T]\n",
    "    \n",
    "ending_balance\n",
    "               "
   ]
  },
  {
   "cell_type": "code",
   "execution_count": 95,
   "metadata": {},
   "outputs": [
    {
     "data": {
      "text/plain": [
       "([<matplotlib.axis.XTick at 0x1168bdda0>,\n",
       "  <matplotlib.axis.XTick at 0x113787908>,\n",
       "  <matplotlib.axis.XTick at 0x1168bd940>,\n",
       "  <matplotlib.axis.XTick at 0x11649b278>,\n",
       "  <matplotlib.axis.XTick at 0x11649b8d0>],\n",
       " <a list of 5 Text xticklabel objects>)"
      ]
     },
     "execution_count": 95,
     "metadata": {},
     "output_type": "execute_result"
    },
    {
     "data": {
      "image/png": "[encoded data removed]",
      "text/plain": [
       "<matplotlib.figure.Figure at 0x113e60080>"
      ]
     },
     "metadata": {},
     "output_type": "display_data"
    }
   ],
   "source": [
    "plt.plot(ending_balance)\n",
    "plt.title(\"Ending Balance Over Time\")\n",
    "plt.grid(ls=\"--\")\n",
    "plt.xticks([0,5,10,15,20])"
   ]
  },
  {
   "cell_type": "code",
   "execution_count": 88,
   "metadata": {},
   "outputs": [
    {
     "name": "stderr",
     "output_type": "stream",
     "text": [
      "/anaconda3/lib/python3.6/site-packages/ipykernel_launcher.py:5: DeprecationWarning: numpy.fv is deprecated and will be removed from NumPy 1.20. Use numpy_financial.fv instead (https://pypi.org/project/numpy-financial/).\n",
      "  \"\"\"\n"
     ]
    },
    {
     "data": {
      "text/plain": [
       "53025.0"
      ]
     },
     "execution_count": 88,
     "metadata": {},
     "output_type": "execute_result"
    }
   ],
   "source": [
    "# using Numpy fv function\n",
    "r = .05\n",
    "T = 1\n",
    "pv = 50000\n",
    "np.fv(r, T,-500,-pv,when=\"begin\")"
   ]
  },
  {
   "cell_type": "code",
   "execution_count": null,
   "metadata": {},
   "outputs": [],
   "source": []
  },
  {
   "cell_type": "code",
   "execution_count": null,
   "metadata": {},
   "outputs": [],
   "source": []
  }
 ],
 "metadata": {
  "kernelspec": {
   "display_name": "Python 3",
   "language": "python",
   "name": "python3"
  },
  "language_info": {
   "codemirror_mode": {
    "name": "ipython",
    "version": 3
   },
   "file_extension": ".py",
   "mimetype": "text/x-python",
   "name": "python",
   "nbconvert_exporter": "python",
   "pygments_lexer": "ipython3",
   "version": "3.6.6"
  }
 },
 "nbformat": 4,
 "nbformat_minor": 2
}
